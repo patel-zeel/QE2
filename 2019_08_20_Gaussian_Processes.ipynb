{
 "cells": [
  {
   "cell_type": "code",
   "execution_count": 8,
   "metadata": {
    "slideshow": {
     "slide_type": "skip"
    }
   },
   "outputs": [],
   "source": [
    "import numpy as np\n",
    "import matplotlib.pyplot as plt\n",
    "import seaborn as sns\n",
    "import pyDOE2\n",
    "from GPy.kern import RBF\n",
    "import matplotlib\n",
    "from math import sqrt\n",
    "SPINE_COLOR = 'gray'\n",
    "import warnings\n",
    "warnings.filterwarnings('ignore')\n",
    "%matplotlib inline"
   ]
  },
  {
   "cell_type": "code",
   "execution_count": null,
   "metadata": {},
   "outputs": [],
   "source": []
  },
  {
   "cell_type": "code",
   "execution_count": 10,
   "metadata": {
    "slideshow": {
     "slide_type": "skip"
    }
   },
   "outputs": [],
   "source": [
    "def latexify(fig_width=None, fig_height=None, columns=1):\n",
    "    \"\"\"Set up matplotlib's RC params for LaTeX plotting.\n",
    "    Call this before plotting a figure.\n",
    "\n",
    "    Parameters\n",
    "    ----------\n",
    "    fig_width : float, optional, inches\n",
    "    fig_height : float,  optional, inches\n",
    "    columns : {1, 2}\n",
    "    \"\"\"\n",
    "\n",
    "    # code adapted from http://www.scipy.org/Cookbook/Matplotlib/LaTeX_Examples\n",
    "\n",
    "    # Width and max height in inches for IEEE journals taken from\n",
    "    # computer.org/cms/Computer.org/Journal%20templates/transactions_art_guide.pdf\n",
    "\n",
    "    assert(columns in [1,2])\n",
    "\n",
    "    if fig_width is None:\n",
    "        fig_width = 3.39 if columns==1 else 6.9 # width in inches\n",
    "\n",
    "    if fig_height is None:\n",
    "        golden_mean = (sqrt(5)-1.0)/2.0    # Aesthetic ratio\n",
    "        fig_height = fig_width*golden_mean # height in inches\n",
    "\n",
    "    MAX_HEIGHT_INCHES = 8.0\n",
    "    if fig_height > MAX_HEIGHT_INCHES:\n",
    "        print(\"WARNING: fig_height too large:\" + fig_height + \n",
    "              \"so will reduce to\" + MAX_HEIGHT_INCHES + \"inches.\")\n",
    "        fig_height = MAX_HEIGHT_INCHES\n",
    "\n",
    "    params = {'backend': 'ps',\n",
    "              'text.latex.preamble': [r'\\usepackage{gensymb}'],\n",
    "              'axes.labelsize': 11, # fontsize for x and y labels (was 10)\n",
    "              'axes.titlesize': 8,\n",
    "              'font.size': 11, # was 10\n",
    "              'legend.fontsize': 8, # was 10\n",
    "              'xtick.labelsize': 9,\n",
    "              'ytick.labelsize': 9,\n",
    "              'text.usetex': True,\n",
    "              'figure.figsize': [fig_width,fig_height],\n",
    "              'font.family': 'serif'\n",
    "    }\n",
    "\n",
    "    matplotlib.rcParams.update(params)\n",
    "\n",
    "\n",
    "def format_axes(ax):\n",
    "\n",
    "    for spine in ['top', 'right']:\n",
    "        ax.spines[spine].set_visible(False)\n",
    "\n",
    "    for spine in ['left', 'bottom']:\n",
    "        ax.spines[spine].set_color(SPINE_COLOR)\n",
    "        ax.spines[spine].set_linewidth(0.5)\n",
    "\n",
    "    ax.xaxis.set_ticks_position('bottom')\n",
    "    ax.yaxis.set_ticks_position('left')\n",
    "\n",
    "    for axis in [ax.xaxis, ax.yaxis]:\n",
    "        axis.set_tick_params(direction='out', color=SPINE_COLOR)\n",
    "\n",
    "    return ax"
   ]
  },
  {
   "cell_type": "markdown",
   "metadata": {
    "id": "vy4rFe6Fs3o3",
    "slideshow": {
     "slide_type": "skip"
    }
   },
   "source": [
    "### An example"
   ]
  },
  {
   "cell_type": "markdown",
   "metadata": {
    "id": "-WNBVM9Os3o4",
    "slideshow": {
     "slide_type": "skip"
    }
   },
   "source": [
    "![](https://github.com/nipunbatra/blog/blob/master/_notebooks/20d-conditional-main.gif?raw=1)"
   ]
  },
  {
   "cell_type": "markdown",
   "metadata": {
    "id": "27XT100Qs3o4",
    "slideshow": {
     "slide_type": "skip"
    }
   },
   "source": [
    "Let us look at the GIF above. It shows a non-linear fit with uncertainty on a set of points in the 2d space. The uncertainty is shown by the gray shadowed region. The animation shows how the fit and the uncertainty varies as we keep adding more points (shown as big circles). As expected, as more points are added, the uncertainty of the fit in the vicinity of the added points reduces. This is an example of Gaussian Processes (GP) regression in play."
   ]
  },
  {
   "cell_type": "markdown",
   "metadata": {
    "id": "Vrw_dZKYs3o4",
    "slideshow": {
     "slide_type": "skip"
    }
   },
   "source": [
    "### Introduction"
   ]
  },
  {
   "cell_type": "markdown",
   "metadata": {
    "id": "zfr9yzkds3o5",
    "slideshow": {
     "slide_type": "skip"
    }
   },
   "source": [
    "There exist some great online resources for Gaussian Processes (GPs) including an excellent recent [Distill.Pub article](https://www.jgoertler.com/visual-exploration-gaussian-processes/). This blog post is an attempt with a programatic flavour. In this notebook, we will build the intuition and learn some basics of GPs. This notebook is heavily inspired by the awesome tutorial by Richard Turner. Here is the link to the [slides](http://cbl.eng.cam.ac.uk/pub/Public/Turner/News/imperial-gp-tutorial.pdf) and [video](https://www.youtube.com/watch?v=92-98SYOdlY). Lectures videos and notes from Nando De Freitas' [course](https://www.cs.ubc.ca/~nando/540-2013/lectures.html) are an amazing resource for GPs (and anything ML!)."
   ]
  },
  {
   "cell_type": "markdown",
   "metadata": {
    "id": "z1U_yr_Bs3o6"
   },
   "source": [
    "### One dimensional Gaussian/Normal"
   ]
  },
  {
   "cell_type": "markdown",
   "metadata": {
    "id": "134IHF1Ls3o6"
   },
   "source": [
    "We will start the discussion with 1d Gaussians. Let us write some simple code to generate/sample data from $\\mathcal{N}(\\mu=0, \\sigma=1)$"
   ]
  },
  {
   "cell_type": "code",
   "execution_count": 3,
   "metadata": {
    "id": "ORmqi67Is3o6"
   },
   "outputs": [],
   "source": [
    "one_dim_normal_data = np.random.normal(0, 1, size=10000)"
   ]
  },
  {
   "cell_type": "markdown",
   "metadata": {
    "id": "yDqSIoIes3o7"
   },
   "source": [
    "Let us now visualise the data in a 1d space using scatter plot"
   ]
  },
  {
   "cell_type": "code",
   "execution_count": 4,
   "metadata": {
    "id": "4bXUT9d7s3o7",
    "outputId": "f060dd5a-7830-40f4-863f-04a64b21a3da"
   },
   "outputs": [
    {
     "data": {
      "text/plain": [
       "<AxesSubplot:>"
      ]
     },
     "execution_count": 4,
     "metadata": {},
     "output_type": "execute_result"
    },
    {
     "data": {
      "image/png": "[encoded data removed]",
      "text/plain": [
       "<Figure size 432x288 with 1 Axes>"
      ]
     },
     "metadata": {
      "needs_background": "light"
     },
     "output_type": "display_data"
    }
   ],
   "source": [
    "plt.scatter(one_dim_normal_data, np.zeros_like(one_dim_normal_data), alpha=0.2, c='gray', edgecolors='k', marker='o')\n",
    "format_axes(plt.gca())"
   ]
  },
  {
   "cell_type": "markdown",
   "metadata": {
    "id": "2LBAqMSBs3o8"
   },
   "source": [
    "As we would expect, there are a lot of samples close to zero (mean) and as we go further away from zero, the number of samples keeps reducing. We can also visualise the same phenomenon using a normed histogram shown below."
   ]
  },
  {
   "cell_type": "code",
   "execution_count": 240,
   "metadata": {
    "id": "JrjJMIrvs3o8",
    "outputId": "eb89033f-2723-4016-bb8f-6ea18932e5c3"
   },
   "outputs": [
    {
     "data": {
      "text/plain": [
       "<AxesSubplot:>"
      ]
     },
     "execution_count": 240,
     "metadata": {},
     "output_type": "execute_result"
    },
    {
     "data": {
      "image/png": "[encoded data removed]",
      "text/plain": [
       "<Figure size 432x288 with 1 Axes>"
      ]
     },
     "metadata": {
      "needs_background": "light"
     },
     "output_type": "display_data"
    }
   ],
   "source": [
    "plt.hist(one_dim_normal_data, density=True, bins=20, color='gray')\n",
    "format_axes(plt.gca())"
   ]
  },
  {
   "cell_type": "markdown",
   "metadata": {
    "id": "jB-FExgPs3o8"
   },
   "source": [
    "We can notice that there is a high probability of drawing samples close to the mean and the probability is low far from the mean."
   ]
  },
  {
   "cell_type": "markdown",
   "metadata": {
    "id": "YD5mf63xs3o8"
   },
   "source": [
    "However, since histograms come with their own set of [caveats](https://jakevdp.github.io/PythonDataScienceHandbook/05.13-kernel-density-estimation.html), let us use kernel desnity estimation for obtaining the probability density of 1d Gaussian."
   ]
  },
  {
   "cell_type": "code",
   "execution_count": 241,
   "metadata": {
    "id": "xt8V2bWHs3o8",
    "outputId": "190a4fd6-ae15-4875-9f3f-d0838fdb60cb"
   },
   "outputs": [
    {
     "data": {
      "text/plain": [
       "<AxesSubplot:>"
      ]
     },
     "execution_count": 241,
     "metadata": {},
     "output_type": "execute_result"
    },
    {
     "data": {
      "image/png": "[encoded data removed]",
      "text/plain": [
       "<Figure size 432x288 with 1 Axes>"
      ]
     },
     "metadata": {
      "needs_background": "light"
     },
     "output_type": "display_data"
    }
   ],
   "source": [
    "from sklearn.neighbors import KernelDensity\n",
    "\n",
    "x_d = np.linspace(-4, 4, 100)\n",
    "\n",
    "# instantiate and fit the KDE model\n",
    "kde = KernelDensity(bandwidth=1.0, kernel='gaussian')\n",
    "kde.fit(one_dim_normal_data[:, None])\n",
    "\n",
    "# score_samples returns the log of the probability density\n",
    "logprob = kde.score_samples(x_d[:, None])\n",
    "\n",
    "plt.fill_between(x_d, np.exp(logprob), alpha=0.2, color='gray')\n",
    "plt.plot(one_dim_normal_data, np.full_like(one_dim_normal_data, -0.01), '|k', markeredgewidth=0.1)\n",
    "format_axes(plt.gca())"
   ]
  },
  {
   "cell_type": "markdown",
   "metadata": {
    "id": "w8rkdQSms3o9"
   },
   "source": [
    "We can now see a smoother version of the histogram and can again verify the properties of 1D Gaussian. Let us now vary the variance of 1D Gaussian and make the same plots to enhance our understanding of the concept."
   ]
  },
  {
   "cell_type": "code",
   "execution_count": 247,
   "metadata": {
    "id": "JJVWNrHrs3o9",
    "outputId": "624055d3-6bdb-4ba3-d857-917e6676569b"
   },
   "outputs": [
    {
     "data": {
      "image/png": "[encoded data removed]",
      "text/plain": [
       "<Figure size 288x144 with 1 Axes>"
      ]
     },
     "metadata": {
      "needs_background": "light"
     },
     "output_type": "display_data"
    }
   ],
   "source": [
    "latexify(4,2)\n",
    "fig, ax = plt.subplots()\n",
    "x_d = np.linspace(-6, 6, 400)\n",
    "for i, var in enumerate(np.linspace(0.5,2,10).round(2)):\n",
    "    ax.cla()\n",
    "    one_dim_normal_data = np.random.normal(0, var, size=200)\n",
    "    kde = KernelDensity(bandwidth=1.0, kernel='gaussian')\n",
    "    kde.fit(one_dim_normal_data[:, None])\n",
    "\n",
    "    # score_samples returns the log of the probability density\n",
    "    logprob = kde.score_samples(x_d[:, None])\n",
    "    format_axes(ax)\n",
    "    ax.fill_between(x_d, np.exp(logprob), alpha=0.2, color='gray')\n",
    "    ax.plot(one_dim_normal_data, np.full_like(one_dim_normal_data, -0.01), '|k', markeredgewidth=0.1)\n",
    "    ax.set_title(f\"$\\sigma_1$ = {var}\")\n",
    "    ax.set_xlabel('$y_1$')\n",
    "    ax.set_ylim(0,0.5)\n",
    "    ax.set_xlim(-8,8)\n",
    "\n",
    "    ax.set_ylabel('$pdf(y_1)$')\n",
    "    plt.tight_layout()\n",
    "    plt.savefig(f'figures/1D-Gauss/1D-Gauss-{i}.pdf')"
   ]
  },
  {
   "cell_type": "markdown",
   "metadata": {
    "id": "4IoDOo7js3o9"
   },
   "source": [
    "We can see that how increasing the variance makes the data more spread."
   ]
  },
  {
   "cell_type": "markdown",
   "metadata": {
    "id": "3UGYn0f1s3o9"
   },
   "source": [
    "### Bi-variate Gaussian"
   ]
  },
  {
   "cell_type": "markdown",
   "metadata": {
    "id": "mgkfC8rZs3o9"
   },
   "source": [
    "Having discussed the case of 1d Gaussian, now let us move to multivariate Gaussians. As a special case, let us first consider bi-variate or 2d Gaussian. It's parameters are the mean vector which will have 2 elements and a covariance matrix."
   ]
  },
  {
   "cell_type": "markdown",
   "metadata": {
    "id": "FmlleVhMs3o9"
   },
   "source": [
    "We can write the distribution as:\n",
    "$$\n",
    "\\begin{pmatrix}\n",
    " X_1 \\\\\n",
    " X_2\n",
    "\\end{pmatrix}  \\sim \\mathcal{N} \\left( \\begin{pmatrix}\n",
    " \\mu_1 \\\\\n",
    " \\mu_2\n",
    "\\end{pmatrix} , \\begin{pmatrix}\n",
    " a & \\rho \\\\\n",
    " \\rho & b\n",
    "\\end{pmatrix} \\right)\n",
    "$$\n",
    "\n",
    "\n",
    "where $\\mu_1$, $\\mu_2$ are the means for $X_1$ and $X_2$ respectively; $a$ is the standard deviation for $X_1$, $b$ is the standard deviation for $X_2$ and $\\rho$ is the correlation between $X_1$ and $X_2$\n",
    "\n",
    "Let us now draw some data from: \n",
    "$$\n",
    "\\begin{pmatrix}\n",
    " X_1 \\\\\n",
    " X_2\n",
    "\\end{pmatrix}  \\sim \\mathcal{N} \\left( \\begin{pmatrix}\n",
    " 0 \\\\\n",
    " 0\n",
    "\\end{pmatrix} , \\begin{pmatrix}\n",
    " 1 & 0.7 \\\\\n",
    " 0.7 & 1\n",
    "\\end{pmatrix} \\right)\n",
    "$$\n"
   ]
  },
  {
   "cell_type": "code",
   "execution_count": 207,
   "metadata": {
    "id": "63_UpCoVs3o-"
   },
   "outputs": [],
   "source": [
    "data = np.random.multivariate_normal(mean = np.array([0, 0]), cov = np.array([[1, 0.7], [0.7, 1]]), size=(10000, ))"
   ]
  },
  {
   "cell_type": "code",
   "execution_count": 208,
   "metadata": {
    "id": "XUTL862hs3o-",
    "outputId": "bb03a5ac-19f0-4a18-8fb9-4f4c036573f2"
   },
   "outputs": [
    {
     "data": {
      "text/plain": [
       "<AxesSubplot:xlabel='$X_1$', ylabel='$X_2$'>"
      ]
     },
     "execution_count": 208,
     "metadata": {},
     "output_type": "execute_result"
    },
    {
     "data": {
      "image/png": "[encoded data removed]",
      "text/plain": [
       "<Figure size 288x144 with 1 Axes>"
      ]
     },
     "metadata": {
      "needs_background": "light"
     },
     "output_type": "display_data"
    }
   ],
   "source": [
    "plt.scatter(data[:, 0], data[:, 1], alpha=0.05,c='gray')\n",
    "plt.axhline(0, color='k', lw=0.2)\n",
    "plt.axvline(0, color='k', lw=0.2)\n",
    "plt.xlabel(r\"$X_1$\")\n",
    "plt.ylabel(r\"$X_2$\")\n",
    "\n",
    "format_axes(plt.gca())"
   ]
  },
  {
   "cell_type": "markdown",
   "metadata": {
    "id": "ubzBxhSus3o-"
   },
   "source": [
    "We can see from the plot above that the data is distributed around mean [0, 0]. We can also see the positive correlation between $X_1$ and $X_2$"
   ]
  },
  {
   "cell_type": "markdown",
   "metadata": {
    "id": "AZsUeMtms3o_"
   },
   "source": [
    "### Marginalisation for bivariate Gaussian"
   ]
  },
  {
   "cell_type": "markdown",
   "metadata": {
    "id": "eoSHYtads3o_"
   },
   "source": [
    "Let us look into an interesting plot provided by Seaborn. "
   ]
  },
  {
   "cell_type": "code",
   "execution_count": 209,
   "metadata": {
    "id": "OU4ILD7cs3o_"
   },
   "outputs": [],
   "source": [
    "import pandas as pd\n",
    "data_df = pd.DataFrame(data, columns=[r'$X_1$',r'$X_2$'])"
   ]
  },
  {
   "cell_type": "code",
   "execution_count": 210,
   "metadata": {
    "id": "VIuQS6Z2s3o_",
    "outputId": "5b6e04a8-bf1b-46d3-c4c2-c66610cdb6fb"
   },
   "outputs": [
    {
     "data": {
      "image/png": "[encoded data removed]",
      "text/plain": [
       "<Figure size 432x432 with 3 Axes>"
      ]
     },
     "metadata": {
      "needs_background": "light"
     },
     "output_type": "display_data"
    }
   ],
   "source": [
    "import seaborn as sns\n",
    "g = sns.jointplot(x= r'$X_1$', y=r'$X_2$', data=data_df, kind=\"reg\",color='gray')"
   ]
  },
  {
   "cell_type": "markdown",
   "metadata": {
    "id": "FbU0FSoDs3o_"
   },
   "source": [
    "The central plot is exactly the same as the scatter plot we made earlier. But, we see two additional 1d KDE plots at the top and the right. What do these tell us? These tell us the marginal 1d distributions of $X_1$ and $X_2$.\n",
    "\n",
    "\n",
    "The marginal distribution of $X_1$ is the distribution of $X_1$ considering all values of $X_2$ and vice versa. One of the interesting properties of Gaussian distributions is that the marginal distribution of a Gaussian is also a Gaussian distribution. MathematicalMonk on Youtube has a [great set of lectures on this topic](https://www.youtube.com/watch?v=ycDSJkZ_h0I) that I would highly recommend!\n",
    "\n",
    "What would you expect the marginal distribution of $X_1$ to look like? No prizes for guessing.\n",
    "\n",
    "Given \n",
    "$$\n",
    "\\begin{pmatrix}\n",
    " X_1 \\\\\n",
    " X_2\n",
    "\\end{pmatrix}  \\sim \\mathcal{N} \\left( \\begin{pmatrix}\n",
    " \\mu_1 \\\\\n",
    " \\mu_2\n",
    "\\end{pmatrix} , \\begin{pmatrix}\n",
    " a & \\rho \\\\\n",
    " \\rho & b\n",
    "\\end{pmatrix} \\right)\n",
    "$$\n",
    "\n",
    "we have the marginal distribution of:\n",
    "$$X_1 \\sim \\mathcal{N}(\\mu_1, a)$$\n",
    "and \n",
    "$$X_2 \\sim \\mathcal{N}(\\mu_2, b)$$\n"
   ]
  },
  {
   "cell_type": "code",
   "execution_count": 211,
   "metadata": {
    "id": "XSCoZMMOs3o_"
   },
   "outputs": [],
   "source": [
    "def plot_jointplot_2d(a, b, rho):\n",
    "    data = np.random.multivariate_normal(mean = np.array([0, 0]), cov = np.array([[a, rho], [rho, b]]), size=(10000, ))\n",
    "    data_df = pd.DataFrame(data, columns=[r'$X_1$',r'$X_2$'])\n",
    "    g = sns.jointplot(x= r'$X_1$', y=r'$X_2$', data=data_df, kind=\"reg\",color='gray')"
   ]
  },
  {
   "cell_type": "markdown",
   "metadata": {
    "id": "VlI4XHbIs3pA"
   },
   "source": [
    "Ok, let us know try to plot a few jointplots for different covariance matrices. We would be passing in the values of $a$, $b$ and $\\rho$ which would make up the covariance matrix as: \n",
    "\\begin{pmatrix}\n",
    " a & \\rho \\\\\n",
    " \\rho & b\n",
    "\\end{pmatrix}\n",
    "\n",
    "\n",
    "We would make these plots for mean zero."
   ]
  },
  {
   "cell_type": "code",
   "execution_count": 212,
   "metadata": {
    "id": "LXRYSr_js3pA",
    "outputId": "2eaf0ddf-ac56-460e-aae5-afa070f528f5"
   },
   "outputs": [
    {
     "data": {
      "image/png": "[encoded data removed]",
      "text/plain": [
       "<Figure size 432x432 with 3 Axes>"
      ]
     },
     "metadata": {
      "needs_background": "light"
     },
     "output_type": "display_data"
    }
   ],
   "source": [
    "plot_jointplot_2d(1, 1, -0.7)"
   ]
  },
  {
   "cell_type": "markdown",
   "metadata": {
    "id": "nUkuj2Vas3pA"
   },
   "source": [
    "In the plot above, for $a=1$, $b=1$ and $\\rho=0.7$ we can see the negative correlation (but high) between $X_1$ and $X_2$. \n",
    "\n",
    "Let us now increase the variance in $X_1$ and keep all other paramaters constant."
   ]
  },
  {
   "cell_type": "code",
   "execution_count": 213,
   "metadata": {
    "id": "pi9XlUzUs3pA",
    "outputId": "0036d52e-be53-4808-857b-39b3f9507dbd"
   },
   "outputs": [
    {
     "data": {
      "image/png": "[encoded data removed]",
      "text/plain": [
       "<Figure size 432x432 with 3 Axes>"
      ]
     },
     "metadata": {
      "needs_background": "light"
     },
     "output_type": "display_data"
    }
   ],
   "source": [
    "plot_jointplot_2d(2, 1, -0.7)"
   ]
  },
  {
   "cell_type": "markdown",
   "metadata": {
    "id": "O2rZbjdUs3pA"
   },
   "source": [
    "One can see from the plot above that the variance in $X_1$ is much higher now and the plot extends from -6 to +6 for $X_1$ while earlier it was restricted from -4 to 4."
   ]
  },
  {
   "cell_type": "code",
   "execution_count": 214,
   "metadata": {
    "id": "7qYCNduhs3pA",
    "outputId": "dc9c16b3-a8b1-4557-8f33-b72a6420e3e5"
   },
   "outputs": [
    {
     "data": {
      "image/png": "[encoded data removed]",
      "text/plain": [
       "<Figure size 432x432 with 3 Axes>"
      ]
     },
     "metadata": {
      "needs_background": "light"
     },
     "output_type": "display_data"
    }
   ],
   "source": [
    "plot_jointplot_2d(1, 1, 0.0)"
   ]
  },
  {
   "cell_type": "markdown",
   "metadata": {
    "id": "i9Ax3p6rs3pB"
   },
   "source": [
    "One can see from the plot above that the correlation between $X_1$ and $X_2$ is zero."
   ]
  },
  {
   "cell_type": "markdown",
   "metadata": {
    "id": "duEIQ4gts3pB"
   },
   "source": [
    "#### Surface plots for bi-variate Gaussian\n",
    "\n",
    "We will now look into surface plots for bi-variate Gaussian. This is yet another way to plot and understand Gaussian distributions. I borrow code from an [excellent tuorial](https://scipython.com/blog/visualizing-the-bivariate-gaussian-distribution/) on plotting bivariate Gaussians."
   ]
  },
  {
   "cell_type": "code",
   "execution_count": 215,
   "metadata": {
    "id": "faGrh_rVs3pB"
   },
   "outputs": [],
   "source": [
    "from scipy.stats import multivariate_normal\n",
    "from mpl_toolkits.mplot3d import Axes3D\n",
    "from matplotlib import cm\n",
    "\n",
    "\n",
    "def make_pdf_2d_gaussian(mu, sigma, ax):\n",
    "    ax.cla()\n",
    "    N = 60\n",
    "    X = np.linspace(-3, 3, N)\n",
    "    Y = np.linspace(-3, 4, N)\n",
    "    X, Y = np.meshgrid(X, Y)\n",
    "\n",
    "    # Pack X and Y into a single 3-dimensional array\n",
    "    pos = np.empty(X.shape + (2,))\n",
    "    pos[:, :, 0] = X\n",
    "    pos[:, :, 1] = Y\n",
    "\n",
    "    F = multivariate_normal(mu, sigma)\n",
    "    Z = F.pdf(pos)\n",
    "\n",
    "\n",
    "\n",
    "    # Create a surface plot and projected filled contour plot under it.\n",
    "    ax.plot_surface(X, Y, Z, rstride=3, cstride=3, linewidth=1, antialiased=True,\n",
    "                    cmap=cm.Greys)\n",
    "    \n",
    "    ax.set_xlabel(r\"$y_1$\",labelpad=-20)\n",
    "    ax.set_ylabel(r\"$y_2$\",labelpad=-18)\n",
    "    ax.set_zlabel(\"PDF\")\n",
    "    ax.tick_params(axis='both', which='major', pad=-1)\n",
    "\n",
    "    cset = ax.contourf(X, Y, Z, zdir='z', offset=-0.15, cmap=cm.Greys)\n",
    "\n",
    "    # Adjust the limits, ticks and view angle\n",
    "    ax.set_zlim(-0.15,0.25)\n",
    "    ax.set_zticks(np.linspace(0,0.2,2))\n",
    "    ax.view_init(27, -25)\n",
    "    ax.set_title(f'$\\mu$ = {mu}\\n$\\Sigma$ = {sigma[:,0]}\\n{sigma[:,1]}')"
   ]
  },
  {
   "cell_type": "code",
   "execution_count": 216,
   "metadata": {
    "id": "roG4-vgds3pB",
    "outputId": "4ab2be37-a331-4893-cfd3-ca32d2304207"
   },
   "outputs": [
    {
     "data": {
      "image/png": "[encoded data removed]",
      "text/plain": [
       "<Figure size 288x144 with 1 Axes>"
      ]
     },
     "metadata": {
      "needs_background": "light"
     },
     "output_type": "display_data"
    }
   ],
   "source": [
    "latexify(4,2)\n",
    "mu = np.array([0., 0.])\n",
    "fig = plt.figure()\n",
    "ax = fig.gca(projection='3d')\n",
    "for i, s12 in enumerate(np.linspace(-0.9,0.9,11).round(2)):\n",
    "    sigma = np.array([[ 1. , s12], [s12,  1]])\n",
    "    make_pdf_2d_gaussian(mu, sigma, ax)\n",
    "    plt.tight_layout()\n",
    "    plt.savefig(f'figures/2D-Gauss/2D-Gauss-{i}.pdf')"
   ]
  },
  {
   "cell_type": "markdown",
   "metadata": {
    "id": "aBsSdFYms3pB"
   },
   "source": [
    "From the plot above, we can see the surface plot showing the probability density function for the Gaussian with mean \\begin{pmatrix}\n",
    " 0 \\\\\n",
    " 0\n",
    "\\end{pmatrix} and covariance matrix: \\begin{pmatrix}\n",
    " 1 & -0.5 \\\\\n",
    " -0.5 & 1\n",
    "\\end{pmatrix}\n",
    "\n",
    "It can be seen that the probability peaks arounds $X_1=0$ and $X_2=0$. The bottom plot shows the same concept using contour plots which we will heavily use from now on. The different circles in the bottom contour plot denote the loci of same probability density. Since the contour plot requires a lesser dimension, it will be easier to use in our further analysis.\n",
    "\n",
    "Also, from the contour plots, we can see the correlation between $X_1$ and $X_2$."
   ]
  },
  {
   "cell_type": "code",
   "execution_count": 217,
   "metadata": {
    "id": "POJcBeUNs3pC",
    "outputId": "93d44b8e-2428-432b-b420-a9a709326c78"
   },
   "outputs": [
    {
     "data": {
      "image/png": "[encoded data removed]",
      "text/plain": [
       "<Figure size 288x144 with 1 Axes>"
      ]
     },
     "metadata": {
      "needs_background": "light"
     },
     "output_type": "display_data"
    }
   ],
   "source": [
    "mu = np.array([0., 0.])\n",
    "sigma = np.array([[ 1. , 0], [0,  1]])\n",
    "fig = plt.figure()\n",
    "ax = fig.gca(projection='3d')\n",
    "make_pdf_2d_gaussian(mu, sigma, ax)"
   ]
  },
  {
   "cell_type": "markdown",
   "metadata": {
    "id": "-zECTNbos3pC"
   },
   "source": [
    "In the plot above, we can see that $X_1$ and $X_2$ are not correlated."
   ]
  },
  {
   "cell_type": "markdown",
   "metadata": {
    "id": "H08lj59Ts3pC"
   },
   "source": [
    "#### Contour plots for 2D Gaussians\n",
    "\n",
    "Having seen the relationship between the surface plots and the contour plots, we will now exclusively focus on the contour plots. Here is a simple function to generate the contour plot for 2g gaussian with mean and covariance as the arguments."
   ]
  },
  {
   "cell_type": "code",
   "execution_count": 218,
   "metadata": {
    "id": "0qre3twUs3pC"
   },
   "outputs": [],
   "source": [
    "def plot_2d_contour_pdf(mu, sigma):\n",
    "    X = np.linspace(-3, 3, 60)\n",
    "    Y = np.linspace(-3, 4, 60)\n",
    "    X, Y = np.meshgrid(X, Y)\n",
    "\n",
    "    # Pack X and Y into a single 3-dimensional array\n",
    "    pos = np.empty(X.shape + (2,))\n",
    "    pos[:, :, 0] = X\n",
    "    pos[:, :, 1] = Y\n",
    "\n",
    "    F = multivariate_normal(mu, sigma)\n",
    "    Z = F.pdf(pos)\n",
    "    plt.xlabel(r\"$X_1$\")\n",
    "    plt.ylabel(r\"$X_2$\")\n",
    "    \n",
    "    plt.title(f'$\\mu$ = {mu}\\n $\\Sigma$ = {sigma}')\n",
    "    plt.contourf(X, Y, Z, zdir='z', offset=-0.15, cmap=cm.Greys)\n",
    "    plt.colorbar()\n",
    "    format_axes(plt.gca())"
   ]
  },
  {
   "cell_type": "code",
   "execution_count": 219,
   "metadata": {
    "id": "5NhmB5wxs3pC",
    "outputId": "219e7022-7e83-4f31-ab3d-6837230453da"
   },
   "outputs": [
    {
     "data": {
      "image/png": "[encoded data removed]",
      "text/plain": [
       "<Figure size 288x144 with 2 Axes>"
      ]
     },
     "metadata": {
      "needs_background": "light"
     },
     "output_type": "display_data"
    }
   ],
   "source": [
    "mu = np.array([0., 0.])\n",
    "sigma = np.array([[ 1. , 0.5], [0.5,  1.]])\n",
    "plot_2d_contour_pdf(mu, sigma)"
   ]
  },
  {
   "cell_type": "markdown",
   "metadata": {
    "id": "nxCrfFWIs3pC"
   },
   "source": [
    "The plot above shows the contour plot for 2d gaussian with mean [0, 0] and covariance [[ 1. , 0.5], [0.5,  1.]]. We can see the correlation between $X_1$ and $X_2$"
   ]
  },
  {
   "cell_type": "markdown",
   "metadata": {
    "id": "3fYLmjBcs3pC"
   },
   "source": [
    "### Sample from 2d gaussian and visualising it on XY plane"
   ]
  },
  {
   "cell_type": "markdown",
   "metadata": {
    "id": "_3acVzHNs3pD"
   },
   "source": [
    "We will now sample a point from a 2d Gaussian and describe a new way of visualising it."
   ]
  },
  {
   "cell_type": "markdown",
   "metadata": {
    "id": "dHNAQtJ8s3pD"
   },
   "source": [
    "![](https://github.com/nipunbatra/blog/blob/master/_notebooks/images/0.7/0.jpg?raw=1)"
   ]
  },
  {
   "cell_type": "markdown",
   "metadata": {
    "id": "t2YNOEvds3pD"
   },
   "source": [
    "* The left most plot shows the covariance matrix. \n",
    "\n",
    "* The middle plot shows the contour plot. The dark point marked in the contour plot is a sampled point (at random) from this 2d Gaussian distribution. \n",
    "\n",
    "* The right most plot is an alternative representation of the sampled point. The x-axis corresponds to the labels $X_1$ and $X_2$ and the corresponding y-axis are the coordinates of the point in the $X_1$, $X_2$ dimension shown in the contour plot. \n",
    "\n",
    "We will now write a function to generate a random sample from a 2d gaussian given it's mean and covariance matrix."
   ]
  },
  {
   "cell_type": "code",
   "execution_count": 233,
   "metadata": {
    "id": "P3Uzl3bhs3pD"
   },
   "outputs": [],
   "source": [
    "def plot_2d_contour_pdf_dimensions(mu, sigma, random_num):\n",
    "    latexify(4,2)\n",
    "    fig, ax  = plt.subplots(ncols=3)\n",
    "\n",
    "    X = np.linspace(-3, 3, 60)\n",
    "    Y = np.linspace(-3, 3, 60)\n",
    "    X, Y = np.meshgrid(X, Y)\n",
    "\n",
    "    # Pack X and Y into a single 3-dimensional array\n",
    "    pos = np.empty(X.shape + (2,))\n",
    "    pos[:, :, 0] = X\n",
    "    pos[:, :, 1] = Y\n",
    "\n",
    "    F = multivariate_normal(mu, sigma)\n",
    "    Z = F.pdf(pos)\n",
    "    random_point = F.rvs(random_state=random_num)\n",
    "    \n",
    "    sns.heatmap(sigma, ax=ax[0], annot=True)\n",
    "    ax[1].contour(X, Y, Z, cmap=cm.Greys)\n",
    "    ax[1].scatter(random_point[0], random_point[1], color='k',s=100)\n",
    "    ax[1].set_xlabel(r\"$X_1$\")\n",
    "    ax[1].set_ylabel(r\"$X_2$\")\n",
    "    \n",
    "    data_array = pd.Series(random_point, index=['X1','X2'])\n",
    "    data_array.plot(ax=ax[2], kind='line', marker='o',color='k')\n",
    "    plt.xticks(np.arange(len(data_array.index)), data_array.index.values)\n",
    "    ax[2].set_ylim(-3, 3)\n",
    "    \n",
    "    format_axes(ax[0])\n",
    "    format_axes(ax[1])\n",
    "    format_axes(ax[2])\n",
    "    ax[0].set_title(\"Covariance Matrix\")\n",
    "    ax[1].set_title(\"Contour of pdf\")\n",
    "    ax[2].set_title(\"Visualising the point\")\n",
    "    plt.suptitle(f\"Random state = {random_num}\", y=1.1)\n",
    "    plt.tight_layout()\n",
    "    import os\n",
    "    if not os.path.exists(\"images\"):\n",
    "        os.makedirs(\"images\")\n",
    "    if not os.path.exists(f\"images/{sigma[0, 1]}\"):\n",
    "        os.makedirs(f\"images/{sigma[0, 1]}\")\n",
    "    plt.savefig(f\"images/{sigma[0, 1]}/{random_num}.pdf\", bbox_inches=\"tight\")\n",
    "    plt.close()"
   ]
  },
  {
   "cell_type": "markdown",
   "metadata": {
    "id": "-lCpUJAns3pD"
   },
   "source": [
    "We will now create 20 such samples and animate them "
   ]
  },
  {
   "cell_type": "code",
   "execution_count": 234,
   "metadata": {
    "id": "MaBkJbCrs3pD"
   },
   "outputs": [],
   "source": [
    "for i in range(20):\n",
    "    plot_2d_contour_pdf_dimensions( mu, np.array([[ 1. , 0.1], [0.1,  1.]]), i)"
   ]
  },
  {
   "cell_type": "code",
   "execution_count": 222,
   "metadata": {
    "id": "wK3R-2FEs3pD"
   },
   "outputs": [],
   "source": [
    "!convert -delay 20 -loop 0 images/0.1/*.jpg sigma-0-1.gif"
   ]
  },
  {
   "cell_type": "markdown",
   "metadata": {
    "id": "oxJbxpOxs3pE"
   },
   "source": [
    "![](https://github.com/nipunbatra/blog/blob/master/_notebooks/sigma-0-1.gif?raw=1)"
   ]
  },
  {
   "cell_type": "markdown",
   "metadata": {
    "id": "UiBcXVdls3pE"
   },
   "source": [
    "Since the correlation between the two variables $X_1$ and $X_2$ was low (0.1), we can the see that rightmost plot jumping a lot, i.e. to say that the values of $X_1$ and $X_2$ are not tighly constrained to move together."
   ]
  },
  {
   "cell_type": "code",
   "execution_count": 235,
   "metadata": {
    "id": "nd1Pgk2Ws3pE"
   },
   "outputs": [],
   "source": [
    "for i in range(20):\n",
    "    plot_2d_contour_pdf_dimensions( mu, np.array([[ 1. , 0.9], [0.9,  1.]]), i)"
   ]
  },
  {
   "cell_type": "code",
   "execution_count": 228,
   "metadata": {
    "id": "E1tPRK8bs3pE"
   },
   "outputs": [],
   "source": [
    "!convert -delay 20 -loop 0 images/0.9/*.jpg sigma-0-9.gif"
   ]
  },
  {
   "cell_type": "markdown",
   "metadata": {
    "id": "Ss7UNyv6s3pE"
   },
   "source": [
    "![](https://github.com/nipunbatra/blog/blob/master/_notebooks/sigma-0-7.gif?raw=1)"
   ]
  },
  {
   "cell_type": "markdown",
   "metadata": {
    "id": "FYyCAHcSs3pE"
   },
   "source": [
    "The above GIF shows the same plot/animation for the 2d Gaussian where the correlation between the two variables is high (0.7). Thus, we can see that the two variables tend to move up and down together."
   ]
  },
  {
   "cell_type": "markdown",
   "metadata": {
    "id": "P6Dhkg3ws3pE"
   },
   "source": [
    "### Conditional Bivariate Distribution"
   ]
  },
  {
   "cell_type": "markdown",
   "metadata": {
    "id": "snr313Tps3pE"
   },
   "source": [
    "All excellent till now. Now, let us move to the case in which some variable's values are known. We would then look to find the distribution of the other variables conditional on the value of the known variable. I borrow some text from Wikipedia on the subject."
   ]
  },
  {
   "cell_type": "markdown",
   "metadata": {
    "id": "UwLR750Js3pF"
   },
   "source": [
    "$$\n",
    "\\begin{pmatrix}\n",
    " X_1 \\\\\n",
    " X_2\n",
    "\\end{pmatrix}  \\sim \\mathcal{N} \\left( \\begin{pmatrix}\n",
    " 0 \\\\\n",
    " 0\n",
    "\\end{pmatrix} , \\begin{pmatrix}\n",
    " 1 & \\rho \\\\\n",
    " \\rho & 1\n",
    "\\end{pmatrix} \\right)\n",
    "$$\n",
    "\n",
    "The conditional expectation of $X_2$ given $X_1$ is: $\\operatorname{E}(X_2 \\mid X_1=x_1)= \\rho x_1 $\n",
    "\n",
    "and the conditional variance is: $\\operatorname{var}(X_2 \\mid X_1 = x_1) = 1-\\rho^2$ "
   ]
  },
  {
   "cell_type": "markdown",
   "metadata": {
    "id": "nPq9OoCUs3pF"
   },
   "source": [
    "So, the question now is: suppose we fix $X_1 = 1$, what is the distribution of $X_2$. Again, Gaussians are amazing - the conditional distributionon is again a Gaussian. Let us make some plots to understand better. The following plots would be showing the distribution of $X_2$ with fixed $X_1$"
   ]
  },
  {
   "cell_type": "code",
   "execution_count": null,
   "metadata": {
    "id": "FgiIC9DSs3pF"
   },
   "outputs": [],
   "source": [
    "def plot_2d_contour_pdf_dimensions_fixed_x1(sigma, random_num, x1 = 1):\n",
    "    mu = np.zeros(2)\n",
    "    fig, ax  = plt.subplots(ncols=3, figsize=(12, 4))\n",
    "\n",
    "    X = np.linspace(-3, 3, 60)\n",
    "    Y = np.linspace(-3, 3, 60)\n",
    "    X, Y = np.meshgrid(X, Y)\n",
    "\n",
    "    # Pack X and Y into a single 3-dimensional array\n",
    "    pos = np.empty(X.shape + (2,))\n",
    "    pos[:, :, 0] = X\n",
    "    pos[:, :, 1] = Y\n",
    "\n",
    "    F = multivariate_normal(mu, sigma)\n",
    "    Z = F.pdf(pos)\n",
    "    \n",
    "    rho = sigma[0, 1]\n",
    "    F_cond_x1 = multivariate_normal(rho*x1, 1-rho**2)\n",
    "    random_point_x2 = F_cond_x1.rvs(random_state=random_num)\n",
    "    sns.heatmap(sigma, ax=ax[0], annot=True)\n",
    "    ax[1].contour(X, Y, Z, cmap=cm.Greys)\n",
    "    ax[1].scatter(x1, random_point_x2, color='k',s=100)\n",
    "    ax[1].set_xlabel(r\"$X_1$\")\n",
    "    ax[1].set_ylabel(r\"$X_2$\")\n",
    "    \n",
    "    data_array = pd.Series([x1, random_point_x2], index=['X1','X2'])\n",
    "    data_array.plot(ax=ax[2], kind='line', color='k')\n",
    "    ax[2].scatter(x=0, y=x1, color='red', s=100)\n",
    "    ax[2].scatter(x=1, y=random_point_x2, color='k', s=100)\n",
    "    \n",
    "\n",
    "    plt.xticks(np.arange(len(data_array.index)), data_array.index.values)\n",
    "    ax[2].set_ylim(-3, 3)\n",
    "    format_axes(ax[0])\n",
    "    format_axes(ax[1])\n",
    "    format_axes(ax[2])\n",
    "    ax[0].set_title(\"Covariance Matrix\")\n",
    "    ax[1].set_title(\"Contour of pdf\")\n",
    "    ax[2].set_title(\"Visualising the point\")\n",
    "    plt.suptitle(f\"Random state = {random_num}\", y=1.1)\n",
    "    plt.tight_layout()\n",
    "    import os\n",
    "    if not os.path.exists(\"images/conditional/\"):\n",
    "        os.makedirs(\"images/conditional/\")\n",
    "    if not os.path.exists(f\"images/conditional/{sigma[0, 1]}\"):\n",
    "        os.makedirs(f\"images/conditional/{sigma[0, 1]}\")\n",
    "    plt.savefig(f\"images/conditional/{sigma[0, 1]}/{random_num}.jpg\", bbox_inches=\"tight\")\n",
    "    plt.close()"
   ]
  },
  {
   "cell_type": "code",
   "execution_count": null,
   "metadata": {
    "id": "rxNRgc7ls3pF"
   },
   "outputs": [],
   "source": [
    "for i in range(20):\n",
    "    plot_2d_contour_pdf_dimensions_fixed_x1(np.array([[ 1. , 0.1], [0.1,  1.]]), i)"
   ]
  },
  {
   "cell_type": "code",
   "execution_count": null,
   "metadata": {
    "id": "YJJEQ-cHs3pF"
   },
   "outputs": [],
   "source": [
    "!convert -delay 20 -loop 0 images/conditional/0.1/*.jpg conditional-sigma-0-1.gif"
   ]
  },
  {
   "cell_type": "markdown",
   "metadata": {
    "id": "hzkO0POts3pF"
   },
   "source": [
    "![](https://github.com/nipunbatra/blog/blob/master/_notebooks/conditional-sigma-0-1.gif?raw=1)"
   ]
  },
  {
   "cell_type": "markdown",
   "metadata": {
    "id": "tHQAzIdks3pF"
   },
   "source": [
    "The above animation shows the movement of $X_2$ with $X_1=1$. The $X_1=1$ is shown in red in the righmost plot. In the middle plot, we can confirm that the movement is only in the $X_2$ dimension. Further, since the correlation between $X_1$ and $X_2$ is weak, the righmost plot seems to wiggle or jump a lot!"
   ]
  },
  {
   "cell_type": "code",
   "execution_count": null,
   "metadata": {
    "id": "wA-fX2Dms3pG"
   },
   "outputs": [],
   "source": [
    "for i in range(20):\n",
    "    plot_2d_contour_pdf_dimensions_fixed_x1(np.array([[ 1. , 0.7], [0.7,  1.]]), i)"
   ]
  },
  {
   "cell_type": "code",
   "execution_count": null,
   "metadata": {
    "id": "TyvlNdSSs3pG"
   },
   "outputs": [],
   "source": [
    "!convert -delay 20 -loop 0 images/conditional/0.7/*.jpg conditional-sigma-0-7.gif"
   ]
  },
  {
   "cell_type": "markdown",
   "metadata": {
    "id": "1GUlUCoTs3pG"
   },
   "source": [
    "![](https://github.com/nipunbatra/blog/blob/master/_notebooks/conditional-sigma-0-7.gif?raw=1)"
   ]
  },
  {
   "cell_type": "markdown",
   "metadata": {
    "id": "SgJtckqas3pG"
   },
   "source": [
    "In the plot above, we repeat the same p|rocedure but with a covariance matrix having a much higher correlation between $X_1$ and $X_2$. From the righmost plot, we can clearly see that the jumps in $X2$ are far lesser. This is expected, since the two variables are correlated!"
   ]
  },
  {
   "cell_type": "markdown",
   "metadata": {
    "id": "spGJBGMss3pG"
   },
   "source": [
    "#### Visualising the same procedure for 5 dimensional Gaussian"
   ]
  },
  {
   "cell_type": "markdown",
   "metadata": {
    "id": "x9vu7Ndos3pG"
   },
   "source": [
    "We will now repeat the same procedure we did for 2d case in 5 dimensions. "
   ]
  },
  {
   "cell_type": "code",
   "execution_count": null,
   "metadata": {
    "id": "6tkW47-Ls3pG"
   },
   "outputs": [],
   "source": [
    "covariance_5d = np.array([[1, 0.9, 0.8, 0.6, 0.4],\n",
    "                          [0.9, 1, 0.9, 0.8, 0.6],\n",
    "                          [0.8, 0.9, 1, 0.9, 0.8],\n",
    "                          [0.6, 0.8, 0.9, 1, 0.9],\n",
    "                          [0.4, 0.6, 0.8, 0.9, 1]])"
   ]
  },
  {
   "cell_type": "code",
   "execution_count": null,
   "metadata": {
    "id": "jDRj1y8ws3pG"
   },
   "outputs": [],
   "source": [
    "def plot_5d_contour_pdf_dimensions(cov, random_num):\n",
    "    fig, ax  = plt.subplots(ncols=2, figsize=(6, 3))\n",
    "\n",
    "    mu = np.zeros(5)\n",
    "    F = multivariate_normal(mu, cov)\n",
    "    random_point = F.rvs(random_state=random_num)\n",
    "    \n",
    "    sns.heatmap(cov, ax=ax[0], annot=True)\n",
    "    \n",
    "    \n",
    "    data_array = pd.Series(random_point, index=['X1','X2','X3','X4', 'X5'])\n",
    "    data_array.plot(ax=ax[1], kind='line', marker='o',color='k')\n",
    "    plt.xticks(np.arange(len(data_array.index)), data_array.index.values)\n",
    "    ax[1].set_ylim(-3, 3)\n",
    "    for i in range(2):\n",
    "        format_axes(ax[i])\n",
    "    \n",
    "    ax[0].set_title(\"Covariance Matrix\")\n",
    "    ax[-1].set_title(\"Visualising the point\")\n",
    "    plt.suptitle(f\"Random state = {random_num}\", y=1.1)\n",
    "    plt.tight_layout()\n",
    "    import os\n",
    "    if not os.path.exists(\"images/5d/\"):\n",
    "        os.makedirs(\"images/5d\")\n",
    "    \n",
    "    plt.savefig(f\"images/5d/{random_num}.jpg\", bbox_inches=\"tight\")\n",
    "    plt.close()"
   ]
  },
  {
   "cell_type": "code",
   "execution_count": null,
   "metadata": {
    "id": "f5byaddcs3pH"
   },
   "outputs": [],
   "source": [
    "plot_5d_contour_pdf_dimensions(covariance_5d, 2)"
   ]
  },
  {
   "cell_type": "code",
   "execution_count": null,
   "metadata": {
    "id": "wcTns6pVs3pH"
   },
   "outputs": [],
   "source": [
    "for i in range(20):\n",
    "    plot_5d_contour_pdf_dimensions(covariance_5d, i)"
   ]
  },
  {
   "cell_type": "code",
   "execution_count": null,
   "metadata": {
    "id": "4AEnO3GVs3pH"
   },
   "outputs": [],
   "source": [
    "!convert -delay 20 -loop 0 images/5d/*.jpg 5d.gif"
   ]
  },
  {
   "cell_type": "markdown",
   "metadata": {
    "id": "WGB6-ZaQs3pH"
   },
   "source": [
    "![](https://github.com/nipunbatra/blog/blob/master/_notebooks/5d.gif?raw=1)"
   ]
  },
  {
   "cell_type": "markdown",
   "metadata": {
    "id": "bwQ-stHCs3pH"
   },
   "source": [
    "From the visualisation above we can see that:\n",
    "    \n",
    "* since X1 and X2 are highly correlated, they move up and down together\n",
    "* but, X1 and X5 have low correlation, thus, they can seem to wiggle almost independently of each other.\n",
    "\n",
    "We are now getting somewhere. If the correlation between the variables is very high, we will get a smooth curve joining them. Right? Almost getting to the point where we can draw the introductory plot shown at the top of the post."
   ]
  },
  {
   "cell_type": "markdown",
   "metadata": {
    "id": "-zJ5gYews3pH"
   },
   "source": [
    "### Conditional Multivariate Distribution\n",
    "\n",
    "Ok, now let us draw the conditional distribution over this higher 5d space. We will fix the values of some of the variables and see the distribution of the others."
   ]
  },
  {
   "cell_type": "markdown",
   "metadata": {
    "id": "jXQY6dsns3pH"
   },
   "source": [
    "Borrowing from Wikipedia\n",
    "\n",
    "If $N$-dimensional $x$ is partitioned as follows\n",
    "\n",
    "$$\n",
    "\\mathbf{x}\n",
    "=\n",
    "\\begin{bmatrix}\n",
    " \\mathbf{x}_A \\\\\n",
    " \\mathbf{x}_B\n",
    "\\end{bmatrix}\n",
    "\\text{ with sizes }\\begin{bmatrix} q \\times 1 \\\\ (N-q) \\times 1 \\end{bmatrix}\n",
    "$$\n",
    "\n",
    "and accordingly $μ$ and $Σ$ are partitioned as follows\n",
    "\n",
    "$$\n",
    "\\boldsymbol\\mu\n",
    "=\n",
    "\\begin{bmatrix}\n",
    " \\boldsymbol\\mu_A \\\\\n",
    " \\boldsymbol\\mu_B\n",
    "\\end{bmatrix}\n",
    "\\text{ with sizes }\\begin{bmatrix} q \\times 1 \\\\ (N-q) \\times 1 \\end{bmatrix}\n",
    "$$"
   ]
  },
  {
   "cell_type": "markdown",
   "metadata": {
    "id": "KXK1FdY9s3pH"
   },
   "source": [
    "$$\n",
    "\\boldsymbol\\Sigma\n",
    "=\n",
    "\\begin{bmatrix}\n",
    " \\boldsymbol\\Sigma_{AA} & \\boldsymbol\\Sigma_{AB} \\\\\n",
    " \\boldsymbol\\Sigma_{BA} & \\boldsymbol\\Sigma_{BB}\n",
    "\\end{bmatrix}\n",
    "\\text{ with sizes }\\begin{bmatrix} q \\times q & q \\times (N-q) \\\\ (N-q) \\times q & (N-q) \\times (N-q) \\end{bmatrix}\n",
    "$$\n",
    "\n",
    "then the distribution of $x_A$ conditional on $x_B=b$ is multivariate normal $(x_A|x_B=b)\\sim \\mathcal{N}(\\bar{\\mu}, \\bar{\\Sigma})$\n",
    "\n",
    "$$\n",
    "\\bar{\\boldsymbol\\mu}\n",
    "=\n",
    "\\boldsymbol\\mu_A + \\boldsymbol\\Sigma_{AB} \\boldsymbol\\Sigma_{BB}^{-1}\n",
    "\\left(\n",
    " \\mathbf{B} - \\boldsymbol\\mu_B\n",
    "\\right)\n",
    "$$\n",
    "\n",
    "and covariance matrix\n",
    "\n",
    "$$\n",
    "\\overline{\\boldsymbol\\Sigma}\n",
    "=\n",
    "\\boldsymbol\\Sigma_{AA} - \\boldsymbol\\Sigma_{AB} \\boldsymbol\\Sigma_{BB}^{-1} \\boldsymbol\\Sigma_{BA}.\n",
    "$$"
   ]
  },
  {
   "cell_type": "markdown",
   "metadata": {
    "id": "1zOLDtqMs3pI"
   },
   "source": [
    "Let us for our example take $X_5 = -2$. \n",
    "\n",
    "We have:\n",
    "\n",
    "$x_A = [x_1, x_2, x_3, x_4]$ and $x_B = [x_5]$\n",
    "\n",
    "Assuming the covariance matrix of size 5 X 5 is referred as $C$\n",
    "\n",
    "$$\n",
    "\\boldsymbol\\Sigma_{AA}\n",
    "=\n",
    "\\begin{bmatrix}\n",
    " C_{11} & C_{12} & C_{13} & C_{14}\\\\\n",
    " C_{21} & C_{22} & C_{23} & C_{24}\\\\\n",
    " C_{31} & C_{32} & C_{33} & C_{34}\\\\\n",
    " C_{41} & C_{42} & C_{43} & C_{44}\\\\\n",
    "\\end{bmatrix} \\\\\n",
    "$$\n",
    "\n",
    "$$\n",
    "\\boldsymbol\\Sigma_{AB}\n",
    "=\n",
    "\\begin{bmatrix}\n",
    " C_{15}\\\\\n",
    " C_{25}\\\\\n",
    " C_{35}\\\\\n",
    " C_{45}\\\\\n",
    "\\end{bmatrix}\n",
    "$$\n",
    "\n",
    "$$\n",
    "\\boldsymbol\\Sigma_{BA}\n",
    "=\n",
    "\\begin{bmatrix}\n",
    " C_{51}& C_{52} & C_{53} & C_{54}\\\\\n",
    "\\end{bmatrix}\n",
    "$$\n",
    "\n",
    "$$\n",
    "\\boldsymbol\\Sigma_{BB}\n",
    "=\n",
    "\\begin{bmatrix}\n",
    " C_{55}\\\\\n",
    "\\end{bmatrix}\n",
    "$$"
   ]
  },
  {
   "cell_type": "markdown",
   "metadata": {
    "id": "i5d4ecXBs3pI"
   },
   "source": [
    "Putting in the numbers we get:\n",
    "    "
   ]
  },
  {
   "cell_type": "code",
   "execution_count": null,
   "metadata": {
    "id": "4oKghQZMs3pI"
   },
   "outputs": [],
   "source": [
    "sigma_AA = covariance_5d[:4, :4]"
   ]
  },
  {
   "cell_type": "code",
   "execution_count": null,
   "metadata": {
    "id": "NrV40f-Js3pI",
    "outputId": "e7614189-f7b7-4d6f-dc9e-5f1a6781b4c9"
   },
   "outputs": [
    {
     "data": {
      "text/plain": [
       "array([[1. , 0.9, 0.8, 0.6],\n",
       "       [0.9, 1. , 0.9, 0.8],\n",
       "       [0.8, 0.9, 1. , 0.9],\n",
       "       [0.6, 0.8, 0.9, 1. ]])"
      ]
     },
     "execution_count": 37,
     "metadata": {
      "tags": []
     },
     "output_type": "execute_result"
    }
   ],
   "source": [
    "sigma_AA"
   ]
  },
  {
   "cell_type": "code",
   "execution_count": null,
   "metadata": {
    "id": "U3MxtpyXs3pI"
   },
   "outputs": [],
   "source": [
    "sigma_AB = covariance_5d[:4, 4].reshape(-1, 1)"
   ]
  },
  {
   "cell_type": "code",
   "execution_count": null,
   "metadata": {
    "id": "nyJPWKzgs3pI",
    "outputId": "a0bbdf23-98ae-43ce-cb1c-054a5c8b11f3"
   },
   "outputs": [
    {
     "data": {
      "text/plain": [
       "array([[0.4],\n",
       "       [0.6],\n",
       "       [0.8],\n",
       "       [0.9]])"
      ]
     },
     "execution_count": 39,
     "metadata": {
      "tags": []
     },
     "output_type": "execute_result"
    }
   ],
   "source": [
    "sigma_AB"
   ]
  },
  {
   "cell_type": "code",
   "execution_count": null,
   "metadata": {
    "id": "ndSsAgePs3pI"
   },
   "outputs": [],
   "source": [
    "sigma_BA = covariance_5d[4, :4].reshape(1, -1)"
   ]
  },
  {
   "cell_type": "code",
   "execution_count": null,
   "metadata": {
    "id": "HdptNmC5s3pJ",
    "outputId": "56af4909-7bcd-471a-8157-056de7b88a30"
   },
   "outputs": [
    {
     "data": {
      "text/plain": [
       "array([[0.4, 0.6, 0.8, 0.9]])"
      ]
     },
     "execution_count": 41,
     "metadata": {
      "tags": []
     },
     "output_type": "execute_result"
    }
   ],
   "source": [
    "sigma_BA"
   ]
  },
  {
   "cell_type": "code",
   "execution_count": null,
   "metadata": {
    "id": "Z6vh1Vahs3pJ"
   },
   "outputs": [],
   "source": [
    "sigma_BB = covariance_5d[4, 4].reshape(-1, 1)"
   ]
  },
  {
   "cell_type": "code",
   "execution_count": null,
   "metadata": {
    "id": "0lc9YS36s3pJ",
    "outputId": "560ebc64-1224-4f27-f5d4-73ebf7c11ce6"
   },
   "outputs": [
    {
     "data": {
      "text/plain": [
       "array([[1.]])"
      ]
     },
     "execution_count": 43,
     "metadata": {
      "tags": []
     },
     "output_type": "execute_result"
    }
   ],
   "source": [
    "sigma_BB"
   ]
  },
  {
   "cell_type": "markdown",
   "metadata": {
    "id": "7s6axL_Ts3pJ"
   },
   "source": [
    "Now, calculating $\\bar{\\mu}$"
   ]
  },
  {
   "cell_type": "code",
   "execution_count": null,
   "metadata": {
    "id": "r73M411Ws3pJ"
   },
   "outputs": [],
   "source": [
    "mu_bar = np.zeros((4, 1)) + sigma_AB@np.linalg.inv(sigma_BB)*(-2)"
   ]
  },
  {
   "cell_type": "code",
   "execution_count": null,
   "metadata": {
    "id": "8OJ9am6Ls3pJ",
    "outputId": "a98ed1e1-cd46-4f98-92f1-bed20197559c"
   },
   "outputs": [
    {
     "data": {
      "text/plain": [
       "array([[-0.8],\n",
       "       [-1.2],\n",
       "       [-1.6],\n",
       "       [-1.8]])"
      ]
     },
     "execution_count": 45,
     "metadata": {
      "tags": []
     },
     "output_type": "execute_result"
    }
   ],
   "source": [
    "mu_bar"
   ]
  },
  {
   "cell_type": "markdown",
   "metadata": {
    "id": "9I8YkNg2s3pJ"
   },
   "source": [
    "Since, $x_5$ has highest correlation with $x_4$ it makes sense for $x_5=-2$ to have the mean of $x_4$ to be close to -2."
   ]
  },
  {
   "cell_type": "markdown",
   "metadata": {
    "id": "zI11VCV4s3pK"
   },
   "source": [
    "Now, calculating $\\bar{\\Sigma}$"
   ]
  },
  {
   "cell_type": "code",
   "execution_count": null,
   "metadata": {
    "id": "PNJp_AwOs3pK"
   },
   "outputs": [],
   "source": [
    "sigma_bar = sigma_AA - sigma_AB@np.linalg.inv(sigma_BB)@sigma_BA"
   ]
  },
  {
   "cell_type": "code",
   "execution_count": null,
   "metadata": {
    "id": "nzGwZMkJs3pK",
    "outputId": "f4b56735-6aae-4a71-8c81-7542f735cbc2"
   },
   "outputs": [
    {
     "data": {
      "text/plain": [
       "array([[0.84, 0.66, 0.48, 0.24],\n",
       "       [0.66, 0.64, 0.42, 0.26],\n",
       "       [0.48, 0.42, 0.36, 0.18],\n",
       "       [0.24, 0.26, 0.18, 0.19]])"
      ]
     },
     "execution_count": 47,
     "metadata": {
      "tags": []
     },
     "output_type": "execute_result"
    }
   ],
   "source": [
    "sigma_bar"
   ]
  },
  {
   "cell_type": "markdown",
   "metadata": {
    "id": "ABxEuCSfs3pK"
   },
   "source": [
    "Now, we have the new mean and covariance matrices for $x_A = [x_1, x_2, x_3, x_4]$ and $x_B = [x_5] = [-2]$. Let us now draw some samples fixing $x_5 = -2$"
   ]
  },
  {
   "cell_type": "code",
   "execution_count": null,
   "metadata": {
    "id": "a3ViB57Ks3pK"
   },
   "outputs": [],
   "source": [
    "cov = sigma_bar\n",
    "mu = mu_bar.flatten()\n",
    "def plot_5d_samples_fixed_x2(random_num):\n",
    "    fig, ax  = plt.subplots(ncols=2, figsize=(6, 3))\n",
    "    \n",
    "    \n",
    "    F = multivariate_normal(mu, cov)\n",
    "    \n",
    "    sns.heatmap(cov, ax=ax[0], annot=True)\n",
    "    random_point = F.rvs(random_state=random_num)\n",
    "    \n",
    "    \n",
    "    data_array = pd.Series(random_point, index=['X1','X2','X3','X4'])\n",
    "    data_array['X5'] = -2\n",
    "    data_array.plot(ax=ax[1], kind='line', marker='.',color='k')\n",
    "    plt.scatter([4], [-2], color='red', s=100)\n",
    "    plt.xticks(np.arange(len(data_array.index)), data_array.index.values)\n",
    "    ax[1].set_ylim(-3, 3)\n",
    "    for i in range(2):\n",
    "        format_axes(ax[i])\n",
    "    \n",
    "    ax[0].set_title(\"Covariance Matrix\")\n",
    "    ax[-1].set_title(\"Visualising the point\")\n",
    "    plt.suptitle(f\"Random state = {random_num}\", y=1.1)\n",
    "    plt.tight_layout()\n",
    "    import os\n",
    "    if not os.path.exists(\"images/5d/conditional/1\"):\n",
    "        os.makedirs(\"images/5d/conditional/1\")\n",
    "    \n",
    "    plt.savefig(f\"images/5d/conditional/1/{random_num}.jpg\", bbox_inches=\"tight\")\n",
    "    plt.close()\n",
    "    "
   ]
  },
  {
   "cell_type": "code",
   "execution_count": null,
   "metadata": {
    "id": "T7XE7zPos3pK"
   },
   "outputs": [],
   "source": [
    "for i in range(20):\n",
    "    plot_5d_samples_fixed_x2(i)"
   ]
  },
  {
   "cell_type": "code",
   "execution_count": null,
   "metadata": {
    "id": "2FWH01yvs3pK"
   },
   "outputs": [],
   "source": [
    "!convert -delay 20 -loop 0 images/5d/conditional/1/*.jpg 5d-conditional-1.gif"
   ]
  },
  {
   "cell_type": "markdown",
   "metadata": {
    "id": "ZIdf7vEbs3pK"
   },
   "source": [
    "![](https://github.com/nipunbatra/blog/blob/master/_notebooks/5d-conditional-1.gif?raw=1)"
   ]
  },
  {
   "cell_type": "markdown",
   "metadata": {
    "id": "QAhKZ-oWs3pK"
   },
   "source": [
    "### Let's increase to 20 dimensions now!"
   ]
  },
  {
   "cell_type": "markdown",
   "metadata": {
    "id": "ScVRtKHTs3pL"
   },
   "source": [
    "We can not surely write the covariance matrix for 20 dimensions. Let us use a small trick called the kernel function to create this matrix. We will come it later. For now, let us think of this function as a function which:\n",
    "\n",
    "* outputs low numbers for $x_1$ and $x_2$ if they differ by a lot\n",
    "* outputs high number for $x_1$ and $x_2$ if they are very close"
   ]
  },
  {
   "cell_type": "code",
   "execution_count": null,
   "metadata": {
    "id": "kUyfN9Qrs3pL"
   },
   "outputs": [],
   "source": [
    "def rbf_kernel(x_1, x_2, sig):\n",
    "    return np.exp((-(x_1-x_2)**2)/2*(sig**2))"
   ]
  },
  {
   "cell_type": "code",
   "execution_count": null,
   "metadata": {
    "id": "ldZ2DCkzs3pL",
    "outputId": "422e2f4c-6075-4d0c-98b6-a4e211761f4f"
   },
   "outputs": [
    {
     "data": {
      "text/plain": [
       "1.0"
      ]
     },
     "execution_count": 52,
     "metadata": {
      "tags": []
     },
     "output_type": "execute_result"
    }
   ],
   "source": [
    "rbf_kernel(1, 1, 0.4)"
   ]
  },
  {
   "cell_type": "markdown",
   "metadata": {
    "id": "zwYVcnp5s3pL"
   },
   "source": [
    "Since 1=1, the above function evaluates to 1 showing that 1 is similar to 1"
   ]
  },
  {
   "cell_type": "code",
   "execution_count": null,
   "metadata": {
    "id": "DiC7joiIs3pL",
    "outputId": "0aea2bdc-05be-4047-d350-f554f5ed3ff7"
   },
   "outputs": [
    {
     "data": {
      "text/plain": [
       "0.9231163463866358"
      ]
     },
     "execution_count": 53,
     "metadata": {
      "tags": []
     },
     "output_type": "execute_result"
    }
   ],
   "source": [
    "rbf_kernel(1, 2, 0.4)"
   ]
  },
  {
   "cell_type": "markdown",
   "metadata": {
    "id": "Lvc7H6HYs3pL"
   },
   "source": [
    "Since 1 and 2 are close, the function above evaluates to close to 1"
   ]
  },
  {
   "cell_type": "code",
   "execution_count": null,
   "metadata": {
    "id": "NKFJTXcis3pL",
    "outputId": "45ad0271-1e07-434f-d0cf-b288ea525cdd"
   },
   "outputs": [
    {
     "data": {
      "text/plain": [
       "0.6065306597126334"
      ]
     },
     "execution_count": 54,
     "metadata": {
      "tags": []
     },
     "output_type": "execute_result"
    }
   ],
   "source": [
    "rbf_kernel(1, 2, 1)"
   ]
  },
  {
   "cell_type": "markdown",
   "metadata": {
    "id": "mANQVIJjs3pM"
   },
   "source": [
    "Ok, we use the same first two arguments 1 and 2 but change the last one to 1 from 0.4 and we see that the function evaluates to a much smaller number. Thus, we can see that increase the `sig` parameter leads to quicker dropoff in similarity between pair of points. Or, in other words, higher `sig` means that the influence of a point `x_1` reduces quicker."
   ]
  },
  {
   "cell_type": "markdown",
   "metadata": {
    "id": "kR-Lq5-ss3pM"
   },
   "source": [
    "Let us now create the covariance matrix of size (20, 20) using this kernel function."
   ]
  },
  {
   "cell_type": "code",
   "execution_count": null,
   "metadata": {
    "id": "ZgIsIcTqs3pM"
   },
   "outputs": [],
   "source": [
    "C = np.zeros((20, 20))"
   ]
  },
  {
   "cell_type": "code",
   "execution_count": null,
   "metadata": {
    "id": "abwrxiKws3pM"
   },
   "outputs": [],
   "source": [
    "for i in range(20):\n",
    "    for j in range(20):\n",
    "        C[i, j] = rbf_kernel(i, j, 0.5)"
   ]
  },
  {
   "cell_type": "markdown",
   "metadata": {
    "id": "IGubQ_QIs3pM"
   },
   "source": [
    "Let us plot the heatmap of the covariance matrix"
   ]
  },
  {
   "cell_type": "code",
   "execution_count": null,
   "metadata": {
    "id": "tf4sMw6qs3pM",
    "outputId": "352cb82d-3164-4fa7-bb5e-773d0261e4bc"
   },
   "outputs": [
    {
     "data": {
      "text/plain": [
       "<matplotlib.axes._subplots.AxesSubplot at 0x7f9d11ccbee0>"
      ]
     },
     "execution_count": 57,
     "metadata": {
      "tags": []
     },
     "output_type": "execute_result"
    },
    {
     "data": {
      "image/png": "[encoded data removed]",
      "text/plain": [
       "<Figure size 432x288 with 2 Axes>"
      ]
     },
     "metadata": {
      "needs_background": "light",
      "tags": []
     },
     "output_type": "display_data"
    }
   ],
   "source": [
    "sns.heatmap(C)"
   ]
  },
  {
   "cell_type": "markdown",
   "metadata": {
    "id": "6xUDBTIls3pM"
   },
   "source": [
    "The above heatmap confirms that there is correlation between nearby points, but close to zero or zero correlation otherwise."
   ]
  },
  {
   "cell_type": "markdown",
   "metadata": {
    "id": "i9ihQUhys3pN"
   },
   "source": [
    "#### Let us draw some samples from this 20 dimensional Gaussian"
   ]
  },
  {
   "cell_type": "code",
   "execution_count": null,
   "metadata": {
    "id": "c1iZraJLs3pN"
   },
   "outputs": [],
   "source": [
    "def plot_20d_samples(random_num):\n",
    "    fig, ax  = plt.subplots(figsize=(10, 3))\n",
    "    \n",
    "    \n",
    "    F = multivariate_normal(np.zeros(20), C)\n",
    "    random_point = F.rvs(random_state=random_num)\n",
    "    index = [f'X{i}' for i in range(1, 21)]\n",
    "    data_array = pd.Series(random_point, index=index)\n",
    "    data_array.plot(ax=ax, kind='line', marker='.',color='k')\n",
    "    plt.xticks(np.arange(len(data_array.index)), data_array.index.values)\n",
    "    \n",
    "    plt.suptitle(f\"Random state = {random_num}\", y=1.1)\n",
    "    plt.tight_layout()\n",
    "    import os\n",
    "    if not os.path.exists(\"images/20d/\"):\n",
    "        os.makedirs(\"images/20d/\")\n",
    "    \n",
    "    plt.ylim(-3, 3)\n",
    "    plt.savefig(f\"images/20d/{random_num}.jpg\", bbox_inches=\"tight\")\n",
    "    plt.close()"
   ]
  },
  {
   "cell_type": "code",
   "execution_count": null,
   "metadata": {
    "id": "TFbXAtG5s3pN"
   },
   "outputs": [],
   "source": [
    "for i in range(50):\n",
    "    plot_20d_samples(i)"
   ]
  },
  {
   "cell_type": "code",
   "execution_count": null,
   "metadata": {
    "id": "oh03-0EAs3pN"
   },
   "outputs": [],
   "source": [
    "!convert -delay 20 -loop 0 images/20d/*.jpg 20d.gif"
   ]
  },
  {
   "cell_type": "markdown",
   "metadata": {
    "id": "H81qzqASs3pN"
   },
   "source": [
    "![](https://github.com/nipunbatra/blog/blob/master/_notebooks/20d.gif?raw=1)"
   ]
  },
  {
   "cell_type": "markdown",
   "metadata": {
    "id": "Q3alWv4Ts3pN"
   },
   "source": [
    "From the animation above, we can see different family of functions of mean zero across these 20 points. We're really getting close now!"
   ]
  },
  {
   "cell_type": "markdown",
   "metadata": {
    "id": "WKjvl3Gfs3pN"
   },
   "source": [
    "#### Let us now condition on a few elements "
   ]
  },
  {
   "cell_type": "markdown",
   "metadata": {
    "id": "HnhLgSwvs3pN"
   },
   "source": [
    "We will create a new ordering of these variables such that the known variables occur towards the end. This allows for easy calculations for conditioning."
   ]
  },
  {
   "cell_type": "code",
   "execution_count": null,
   "metadata": {
    "id": "RovLQJdMs3pO"
   },
   "outputs": [],
   "source": [
    "order = [2, 3, 4, 6, 7, 8, 9, 11, 12, 13, 14, 15, 16, 17, 18, 19, 0, 1, 5, 10]"
   ]
  },
  {
   "cell_type": "code",
   "execution_count": null,
   "metadata": {
    "id": "Tic6r5L5s3pO"
   },
   "outputs": [],
   "source": [
    "new_C = np.zeros_like(C)"
   ]
  },
  {
   "cell_type": "code",
   "execution_count": null,
   "metadata": {
    "id": "bxdk44DFs3pO"
   },
   "outputs": [],
   "source": [
    "old_order = range(20)"
   ]
  },
  {
   "cell_type": "code",
   "execution_count": null,
   "metadata": {
    "id": "tj1qeww0s3pO"
   },
   "outputs": [],
   "source": [
    "for i in range(20):\n",
    "    for j in range(20):\n",
    "        new_C[i, j] = C[order[i], order[j]]"
   ]
  },
  {
   "cell_type": "code",
   "execution_count": null,
   "metadata": {
    "id": "YlKz1oVDs3pO",
    "outputId": "0488f004-25ef-4026-ac30-32a2ef03fab3"
   },
   "outputs": [
    {
     "data": {
      "text/plain": [
       "<matplotlib.axes._subplots.AxesSubplot at 0x7f9d10b88d00>"
      ]
     },
     "execution_count": 65,
     "metadata": {
      "tags": []
     },
     "output_type": "execute_result"
    },
    {
     "data": {
      "image/png": "[encoded data removed]",
      "text/plain": [
       "<Figure size 432x288 with 2 Axes>"
      ]
     },
     "metadata": {
      "needs_background": "light",
      "tags": []
     },
     "output_type": "display_data"
    }
   ],
   "source": [
    "sns.heatmap(new_C, xticklabels=order, yticklabels=order, cmap='jet')"
   ]
  },
  {
   "cell_type": "markdown",
   "metadata": {
    "id": "spxEF1wos3pO"
   },
   "source": [
    "Now, we can condition on (x1 = 1, x2 = 3, x6 = -3, X11 = 1). We will use the same procedure we used above in the case of 5d."
   ]
  },
  {
   "cell_type": "code",
   "execution_count": null,
   "metadata": {
    "id": "Rcz-d8k-s3pO",
    "outputId": "d5a19da2-a08d-415f-f049-7efac4d6e5f1"
   },
   "outputs": [
    {
     "data": {
      "text/plain": [
       "array([[ 1],\n",
       "       [ 3],\n",
       "       [-3],\n",
       "       [ 1]])"
      ]
     },
     "execution_count": 66,
     "metadata": {
      "tags": []
     },
     "output_type": "execute_result"
    }
   ],
   "source": [
    "B = np.array([1, 3, -3, 1]).reshape(-1, 1)\n",
    "B"
   ]
  },
  {
   "cell_type": "code",
   "execution_count": null,
   "metadata": {
    "id": "iUOwav8Ds3pO",
    "outputId": "e94f16ed-0f49-4505-a261-f2144be542c7"
   },
   "outputs": [
    {
     "data": {
      "text/plain": [
       "(16, 16)"
      ]
     },
     "execution_count": 67,
     "metadata": {
      "tags": []
     },
     "output_type": "execute_result"
    }
   ],
   "source": [
    "sigma_AA_20d = new_C[:-B.size, :-B.size]\n",
    "sigma_AA_20d.shape"
   ]
  },
  {
   "cell_type": "code",
   "execution_count": null,
   "metadata": {
    "id": "L2_2GFmrs3pP",
    "outputId": "73b633f2-69a8-4f1c-fbf7-18e54a54b053"
   },
   "outputs": [
    {
     "data": {
      "text/plain": [
       "(4, 4)"
      ]
     },
     "execution_count": 68,
     "metadata": {
      "tags": []
     },
     "output_type": "execute_result"
    }
   ],
   "source": [
    "sigma_BB_20d = new_C[-B.size:, -B.size:]\n",
    "sigma_BB_20d.shape"
   ]
  },
  {
   "cell_type": "code",
   "execution_count": null,
   "metadata": {
    "id": "WL62cCOfs3pP",
    "outputId": "ae32bbbe-c109-4f0c-ac7f-081720df5251"
   },
   "outputs": [
    {
     "data": {
      "text/plain": [
       "(16, 4)"
      ]
     },
     "execution_count": 69,
     "metadata": {
      "tags": []
     },
     "output_type": "execute_result"
    }
   ],
   "source": [
    "sigma_AB_20d = new_C[:-B.size, -B.size:]\n",
    "sigma_AB_20d.shape"
   ]
  },
  {
   "cell_type": "code",
   "execution_count": null,
   "metadata": {
    "id": "MdmNwoASs3pP",
    "outputId": "0fe7d7d8-95af-4112-898b-4340fd74ced7"
   },
   "outputs": [
    {
     "data": {
      "text/plain": [
       "(4, 16)"
      ]
     },
     "execution_count": 70,
     "metadata": {
      "tags": []
     },
     "output_type": "execute_result"
    }
   ],
   "source": [
    "sigma_BA_20d = new_C[-B.size:, :-B.size]\n",
    "sigma_BA_20d.shape"
   ]
  },
  {
   "cell_type": "code",
   "execution_count": null,
   "metadata": {
    "id": "-TwrnTX3s3pP"
   },
   "outputs": [],
   "source": [
    "mu_bar_20d = np.zeros((20-B.size, 1)) + sigma_AB_20d@np.linalg.inv(sigma_BB_20d)@(B)"
   ]
  },
  {
   "cell_type": "code",
   "execution_count": null,
   "metadata": {
    "id": "mz7443Fns3pP"
   },
   "outputs": [],
   "source": [
    "sigma_bar_20d = sigma_AA_20d - sigma_AB_20d@np.linalg.inv(sigma_BB_20d)@sigma_BA_20d"
   ]
  },
  {
   "cell_type": "code",
   "execution_count": null,
   "metadata": {
    "id": "TBWByJvls3pP",
    "outputId": "ebce3275-c5ea-435c-e932-ed134baab4b1"
   },
   "outputs": [
    {
     "data": {
      "text/plain": [
       "<matplotlib.axes._subplots.AxesSubplot at 0x7f9d091fd0a0>"
      ]
     },
     "execution_count": 73,
     "metadata": {
      "tags": []
     },
     "output_type": "execute_result"
    },
    {
     "data": {
      "image/png": "[encoded data removed]",
      "text/plain": [
       "<Figure size 432x288 with 2 Axes>"
      ]
     },
     "metadata": {
      "needs_background": "light",
      "tags": []
     },
     "output_type": "display_data"
    }
   ],
   "source": [
    "sns.heatmap(sigma_bar_20d, xticklabels=order[:-B.size], yticklabels=order[:-B.size], cmap='jet')"
   ]
  },
  {
   "cell_type": "code",
   "execution_count": null,
   "metadata": {
    "id": "oazCsZ5Ps3pP"
   },
   "outputs": [],
   "source": [
    "def plot_20d_samples_known_x(random_num):\n",
    "    fig, ax  = plt.subplots(figsize=(10, 3))\n",
    "    \n",
    "    \n",
    "    F = multivariate_normal(mu_bar_20d.flatten(), sigma_bar_20d)\n",
    "    random_point = F.rvs(random_state=random_num)\n",
    "    index = [f'X{i+1}' for i in order[:-B.size]]\n",
    "    data_array = pd.Series(random_point, index=index)\n",
    "    data_array['X1'] = 1\n",
    "    data_array['X2'] = 3\n",
    "    data_array['X6'] = -3\n",
    "    data_array['X11'] = -1\n",
    "    \n",
    "    data_array = data_array[[f'X{i+1}' for i in range(20)]]\n",
    "    data_array.plot(ax=ax, kind='line', marker='.',color='k')\n",
    "    plt.xticks(np.arange(len(data_array.index)), data_array.index.values)\n",
    "    plt.scatter([0, 1,5, 10], [1, 3, -3, -1], color='red',s=100)\n",
    "\n",
    "    plt.suptitle(f\"Random state = {random_num}\", y=1.1)\n",
    "    plt.tight_layout()\n",
    "    import os\n",
    "    if not os.path.exists(\"images/20d/conditional/\"):\n",
    "        os.makedirs(\"images/20d/conditional/\")\n",
    "    plt.grid()\n",
    "    plt.ylim(-4, 4)\n",
    "    plt.savefig(f\"images/20d/conditional/{random_num}.jpg\", bbox_inches=\"tight\")\n",
    "    plt.close()"
   ]
  },
  {
   "cell_type": "code",
   "execution_count": null,
   "metadata": {
    "id": "9eMGeyhZs3pQ"
   },
   "outputs": [],
   "source": [
    "for i in range(50):\n",
    "    plot_20d_samples_known_x(i)"
   ]
  },
  {
   "cell_type": "code",
   "execution_count": null,
   "metadata": {
    "id": "KcjSGlpbs3pQ"
   },
   "outputs": [],
   "source": [
    "!convert -delay 20 -loop 0 images/20d/conditional/*.jpg 20d-conditional.gif"
   ]
  },
  {
   "cell_type": "markdown",
   "metadata": {
    "id": "UvSAe-Vns3pQ"
   },
   "source": [
    "![](https://github.com/nipunbatra/blog/blob/master/_notebooks/20d-conditional.gif?raw=1)"
   ]
  },
  {
   "cell_type": "markdown",
   "metadata": {
    "id": "ofuoby9as3pQ"
   },
   "source": [
    "From the plot above, we can see the known points in red and the other points wiggle to show the families of functions that we fit. Let us now draw a lot of samples and plot the mean and variance in these samples for the unknown X variables. We could have obtained the mean and variance directly using Gaussian marginalisation, but, for now let us just draw many samples."
   ]
  },
  {
   "cell_type": "code",
   "execution_count": null,
   "metadata": {
    "id": "KGkTrypas3pQ"
   },
   "outputs": [],
   "source": [
    "F = multivariate_normal(mu_bar_20d.flatten(), sigma_bar_20d)\n",
    "dfs = {}\n",
    "for random_num in range(100):\n",
    "    random_point = F.rvs(random_state=random_num)\n",
    "    index = [f'X{i+1}' for i in order[:-B.size]]\n",
    "    data_array = pd.Series(random_point, index=index)\n",
    "    data_array['X1'] = 1\n",
    "    data_array['X2'] = 3\n",
    "    data_array['X6'] = -3\n",
    "    data_array['X11'] = -1\n",
    "    \n",
    "    data_array = data_array[[f'X{i+1}' for i in range(20)]]\n",
    "    dfs[random_num] = data_array\n"
   ]
  },
  {
   "cell_type": "code",
   "execution_count": null,
   "metadata": {
    "id": "AmPIJcMNs3pQ",
    "outputId": "742beaf1-a667-488a-b45c-74e0285a6d4c"
   },
   "outputs": [
    {
     "data": {
      "text/plain": [
       "<matplotlib.axes._subplots.AxesSubplot at 0x7f9d0fcc8d00>"
      ]
     },
     "execution_count": 78,
     "metadata": {
      "tags": []
     },
     "output_type": "execute_result"
    },
    {
     "data": {
      "image/png": "[encoded data removed]",
      "text/plain": [
       "<Figure size 720x216 with 1 Axes>"
      ]
     },
     "metadata": {
      "needs_background": "light",
      "tags": []
     },
     "output_type": "display_data"
    }
   ],
   "source": [
    "fig, ax = plt.subplots(figsize=(10, 3))\n",
    "pd.DataFrame(dfs).mean(axis=1).plot(yerr=pd.DataFrame(dfs).std(axis=1),marker='o', color='k')\n",
    "plt.xticks(np.arange(len(data_array.index)), data_array.index.values)\n",
    "plt.scatter([0, 1,5, 10], [1, 3, -3, -1], color='red',s=100)\n",
    "format_axes(plt.gca())"
   ]
  },
  {
   "cell_type": "markdown",
   "metadata": {
    "id": "DiP2e3KSs3pQ"
   },
   "source": [
    "From the plot above, we can see the uncertainty (standard deviation) and the mean values for different variables. As expected, the uncertainty close to the known points (red) is low. Also, owing to the smooth nature of the covariance function we can see the means of unknown points close to known points are fairly similar."
   ]
  },
  {
   "cell_type": "markdown",
   "metadata": {
    "id": "NzocMSabs3pR"
   },
   "source": [
    "To summarise: We can very clearly see that there is low variance in zones where we have the known values and high variance otherwise. The farther we go away from a known value, the more is the variance!"
   ]
  },
  {
   "cell_type": "markdown",
   "metadata": {
    "id": "IjP4a_sds3pR"
   },
   "source": [
    "### Kernels!\n",
    "\n",
    "We will now take a small plunge into the world of kernels. As mentioned earlier, we will limit the discussion to generating to covariance matrix.\n",
    "\n",
    "We will be redefining the function mentioned above to include two parameters `l` and `s`\n",
    "\n",
    "* `s` is the scale of variance\n",
    "* `l` is the influence of the point to neighbouring points"
   ]
  },
  {
   "cell_type": "code",
   "execution_count": null,
   "metadata": {
    "id": "WNC1sNLNs3pR"
   },
   "outputs": [],
   "source": [
    "def sig(x1, x2, l, s):\n",
    "    return s**2*(np.exp((-1/2*(l**2))*((x1-x2)**2)))"
   ]
  },
  {
   "cell_type": "code",
   "execution_count": null,
   "metadata": {
    "id": "_S_xOp9Ps3pR"
   },
   "outputs": [],
   "source": [
    "Cov_matrix = np.zeros((100, 100))"
   ]
  },
  {
   "cell_type": "code",
   "execution_count": null,
   "metadata": {
    "id": "yn6elPXas3pR",
    "outputId": "6b0bddff-726b-4c05-e976-378223b6615f"
   },
   "outputs": [
    {
     "data": {
      "text/plain": [
       "Text(0.5, 0.98, 'Covariance matrix for varying l and s = 1')"
      ]
     },
     "execution_count": 81,
     "metadata": {
      "tags": []
     },
     "output_type": "execute_result"
    },
    {
     "data": {
      "image/png": "[encoded data removed]",
      "text/plain": [
       "<Figure size 432x288 with 5 Axes>"
      ]
     },
     "metadata": {
      "needs_background": "light",
      "tags": []
     },
     "output_type": "display_data"
    }
   ],
   "source": [
    "fig, ax = plt.subplots(ncols=4, sharex=True, sharey=True)\n",
    "s = 1\n",
    "for ix, l in enumerate([0.001, 0.01, 0.1, 1]):\n",
    "    for i in range(100):\n",
    "        for j in range(100):\n",
    "            Cov_matrix[i, j] = sig(i, j, l, 1)\n",
    "    im = ax[ix].imshow(Cov_matrix, cmap='jet')\n",
    "    ax[ix].set_title(f\"l={l}\")\n",
    "fig.subplots_adjust(right=0.8)\n",
    "cbar_ax = fig.add_axes([0.85, 0.35, 0.05, 0.3])\n",
    "fig.colorbar(im, cax=cbar_ax)\n",
    "plt.suptitle(f\"Covariance matrix for varying l and s = {s}\")"
   ]
  },
  {
   "cell_type": "markdown",
   "metadata": {
    "id": "WBaON9rVs3pR"
   },
   "source": [
    "In the plot above, we can the covariance matrices for fixed `s=1` and varying `l`. It can be seen that for very low `l`, the correlations between far away points is also significant. At `l=1`, this ceases to be the case."
   ]
  },
  {
   "cell_type": "code",
   "execution_count": null,
   "metadata": {
    "id": "I7bi-iGVs3pR",
    "outputId": "fa464e25-b2be-47bd-b000-be6fc3ebdfe4"
   },
   "outputs": [
    {
     "data": {
      "text/plain": [
       "Text(0.5, 0.98, 'Covariance matrix for varying s and l = 0.1')"
      ]
     },
     "execution_count": 82,
     "metadata": {
      "tags": []
     },
     "output_type": "execute_result"
    },
    {
     "data": {
      "image/png": "[encoded data removed]",
      "text/plain": [
       "<Figure size 864x216 with 8 Axes>"
      ]
     },
     "metadata": {
      "needs_background": "light",
      "tags": []
     },
     "output_type": "display_data"
    }
   ],
   "source": [
    "fig, ax = plt.subplots(ncols=4, sharex=True, sharey=True, figsize=(12, 3))\n",
    "for ix, s in enumerate([1, 10, 20, 30]):\n",
    "    for i in range(100):\n",
    "        for j in range(100):\n",
    "            Cov_matrix[i, j] = sig(i, j, 0.1, s)\n",
    "    sns.heatmap(Cov_matrix, cmap='jet', ax=ax[ix])\n",
    "    ax[ix].set_title(f\"s={s}\")\n",
    "plt.suptitle(\"Covariance matrix for varying s and l = 0.1\")"
   ]
  },
  {
   "cell_type": "markdown",
   "metadata": {
    "id": "e4qBz1kBs3pS"
   },
   "source": [
    "Ok, this is great. We can see the different scales on the colorbars with increasing `s` and fixing `l`"
   ]
  },
  {
   "cell_type": "markdown",
   "metadata": {
    "id": "y7rppxigs3pS"
   },
   "source": [
    "Now, let us try and redo the 20 point dataset with varying kernel parameters with conditioning on some known data."
   ]
  },
  {
   "cell_type": "code",
   "execution_count": null,
   "metadata": {
    "id": "J0hHyryss3pS"
   },
   "outputs": [],
   "source": [
    "def fit_plot_gp(kernel_s, kernel_l, known_data, total_data_points, save=False):\n",
    "    \"\"\"\n",
    "    kernel_s: sigma^2 param of kernel\n",
    "    kernel_l: l (width) param of kernel\n",
    "    known_data: {pos: value}\n",
    "    total_data_points\n",
    "    \"\"\"\n",
    "    o = list(range(20))\n",
    "    for key in known_data.keys():\n",
    "        o.remove(key)\n",
    "    o.extend(list(known_data.keys()))\n",
    "    \n",
    "    C = np.zeros((total_data_points, total_data_points))\n",
    "    for i in range(total_data_points):\n",
    "        for j in range(total_data_points):\n",
    "            C[i, j] = sig(i, j, kernel_l, kernel_s)\n",
    "        \n",
    "    \n",
    "    # Making known variables shift\n",
    "    new_C = np.zeros_like(C)\n",
    "    for i in range(20):\n",
    "        for j in range(20):\n",
    "            new_C[i, j] = C[o[i], o[j]]\n",
    "    B = np.array(list(known_data.values())).reshape(-1, 1)    \n",
    "    sigma_BA_20d = new_C[-B.size:, :-B.size]\n",
    "    sigma_AB_20d = new_C[:-B.size, -B.size:]\n",
    "    sigma_BB_20d = new_C[-B.size:, -B.size:]\n",
    "    sigma_AA_20d = new_C[:-B.size, :-B.size]\n",
    "\n",
    "    mu_bar_20d = np.zeros((20-B.size, 1)) + sigma_AB_20d@np.linalg.inv(sigma_BB_20d)@(B)\n",
    "    sigma_bar_20d = sigma_AA_20d - sigma_AB_20d@np.linalg.inv(sigma_BB_20d)@sigma_BA_20d\n",
    "    F = multivariate_normal(mu_bar_20d.flatten(), sigma_bar_20d)\n",
    "    dfs = {}\n",
    "    for random_num in range(100):\n",
    "        random_point = F.rvs(random_state=random_num)\n",
    "        index = [f'X{i+1}' for i in o[:-B.size]]\n",
    "        data_array = pd.Series(random_point, index=index)\n",
    "        for k, v in known_data.items():\n",
    "            data_array[f'X{k+1}'] = v\n",
    "        \n",
    "\n",
    "        data_array = data_array[[f'X{i+1}' for i in range(20)]]\n",
    "        dfs[random_num] = data_array\n",
    "    fig, ax = plt.subplots(figsize=(10, 3))\n",
    "    mean_vector = pd.DataFrame(dfs).mean(axis=1)\n",
    "    mean_vector.plot(marker='.', color='k')\n",
    "    yerr=pd.DataFrame(dfs).std(axis=1)\n",
    "    \n",
    "    plt.fill_between(range(len(mean_vector)), mean_vector+yerr, mean_vector-yerr, color='gray',alpha=0.4)\n",
    "    plt.xticks(np.arange(len(data_array.index)), data_array.index.values)\n",
    "    plt.scatter(list(known_data.keys()), list(known_data.values()), color='gray',s=200,zorder=1)\n",
    "    format_axes(plt.gca())\n",
    "    plt.title(f\" l = {kernel_l} and s = {kernel_s}\")\n",
    "    import os\n",
    "    if save:\n",
    "        if not os.path.exists(\"images/20d/conditional-points/\"):\n",
    "            os.makedirs(\"images/20d/conditional-points/\")\n",
    "        plt.grid()\n",
    "        plt.xticks(np.arange(len(data_array.index)), np.arange(len(data_array.index)))\n",
    "        plt.ylim(-4, 4)\n",
    "        plt.title(f\"Known data: {known_data}\")\n",
    "        plt.savefig(f\"images/20d/conditional-points/{len(known_data.keys())}.jpg\", bbox_inches=\"tight\")\n",
    "        plt.close()\n",
    "        "
   ]
  },
  {
   "cell_type": "code",
   "execution_count": null,
   "metadata": {
    "id": "ccheG7m6s3pS"
   },
   "outputs": [],
   "source": [
    "known_d = {0:-2, 1:3, 9:-1, 14:-1}"
   ]
  },
  {
   "cell_type": "code",
   "execution_count": null,
   "metadata": {
    "id": "yWvl6PBMs3pS",
    "outputId": "462062a7-5401-4868-e4b8-da4b0d954942"
   },
   "outputs": [
    {
     "data": {
      "image/png": "[encoded data removed]",
      "text/plain": [
       "<Figure size 720x216 with 1 Axes>"
      ]
     },
     "metadata": {
      "needs_background": "light",
      "tags": []
     },
     "output_type": "display_data"
    }
   ],
   "source": [
    "fit_plot_gp(1, 0.5, known_d, 20)"
   ]
  },
  {
   "cell_type": "markdown",
   "metadata": {
    "id": "LVL_o05Ns3pS"
   },
   "source": [
    "The above plot shows the uncertainty and the family of functions for `l=0.5` and `s=1`. "
   ]
  },
  {
   "cell_type": "code",
   "execution_count": null,
   "metadata": {
    "id": "C-ZC2Og0s3pS",
    "outputId": "06ae345d-40e8-4b67-c1d4-ab2a2ae18b4c"
   },
   "outputs": [
    {
     "data": {
      "image/png": "[encoded data removed]",
      "text/plain": [
       "<Figure size 720x216 with 1 Axes>"
      ]
     },
     "metadata": {
      "needs_background": "light",
      "tags": []
     },
     "output_type": "display_data"
    }
   ],
   "source": [
    "fit_plot_gp(5, 0.5, known_d, 20)"
   ]
  },
  {
   "cell_type": "markdown",
   "metadata": {
    "id": "Lws7wZ2ds3pS"
   },
   "source": [
    "Keeping `l=0.5`, the above plot shows how increasing `s` increases the uncertainty of estimation."
   ]
  },
  {
   "cell_type": "code",
   "execution_count": null,
   "metadata": {
    "id": "OfzoqRRjs3pT",
    "outputId": "a82f706f-480d-472d-ac79-f3c55cefe855"
   },
   "outputs": [
    {
     "data": {
      "image/png": "[encoded data removed]",
      "text/plain": [
       "<Figure size 720x216 with 1 Axes>"
      ]
     },
     "metadata": {
      "needs_background": "light",
      "tags": []
     },
     "output_type": "display_data"
    }
   ],
   "source": [
    "fit_plot_gp(1, 1, known_d, 20)"
   ]
  },
  {
   "cell_type": "markdown",
   "metadata": {
    "id": "gF96k6tJs3pT"
   },
   "source": [
    "The above plot shows how increasing `l` reduces the influence between far away points."
   ]
  },
  {
   "cell_type": "code",
   "execution_count": null,
   "metadata": {
    "id": "9mCGCgR4s3pT",
    "outputId": "38b5fa29-09da-4638-fcd7-aa2c674c60d7"
   },
   "outputs": [
    {
     "data": {
      "image/png": "[encoded data removed]",
      "text/plain": [
       "<Figure size 720x216 with 1 Axes>"
      ]
     },
     "metadata": {
      "needs_background": "light",
      "tags": []
     },
     "output_type": "display_data"
    }
   ],
   "source": [
    "fit_plot_gp(1, 100, known_d, 20)"
   ]
  },
  {
   "cell_type": "markdown",
   "metadata": {
    "id": "BX4-vwwAs3pT"
   },
   "source": [
    "The above plot increases `l` to a very large value. Seems to be just moving around the mean?"
   ]
  },
  {
   "cell_type": "code",
   "execution_count": null,
   "metadata": {
    "id": "1uFlHmFJs3pT"
   },
   "outputs": [],
   "source": [
    "np.random.seed(0)\n",
    "order_points_added = np.random.choice(range(20), size=9, replace=False)\n",
    "k = {}\n",
    "for i in range(9):\n",
    "    k[order_points_added[i]] = np.random.choice(range(-3, 3))\n",
    "    fit_plot_gp(1, 0.5, k, 20, True)"
   ]
  },
  {
   "cell_type": "code",
   "execution_count": null,
   "metadata": {
    "id": "o6L3lTqus3pT"
   },
   "outputs": [],
   "source": [
    "!convert -delay 40 -loop 0 images/20d/conditional-points/*.jpg 20d-conditional-main.gif"
   ]
  },
  {
   "cell_type": "markdown",
   "metadata": {
    "id": "q0Ea70Zss3pT"
   },
   "source": [
    "Let us create a small animation where we keep on adding points and see how the uncertainty and estimation changes"
   ]
  },
  {
   "cell_type": "markdown",
   "metadata": {
    "id": "uGiY6EKrs3pU"
   },
   "source": [
    "![](https://github.com/nipunbatra/blog/blob/master/_notebooks/20d-conditional-main.gif?raw=1)"
   ]
  },
  {
   "cell_type": "markdown",
   "metadata": {
    "id": "BJBamy2ks3pU"
   },
   "source": [
    "### Creating a scikit-learn like function containing `fit` and `predict`\n",
    "\n",
    "I'll now bring in the formal definitions, summarise the discussion and write a function akin to scikit-learn which can accept train data to estimate for test data.\n",
    "\n",
    "\n",
    "#### Formally defining GPs\n",
    "\n",
    "A Gaussian process is fully specified by a mean function `m(x)` and\n",
    "covariance function `K(x, x')`\n",
    ":\n",
    "\n",
    "$$\n",
    "f(x) \\sim GP (m(x),K(x, x')\n",
    "$$\n",
    "\n",
    "\n",
    "Let us consider a case of noiseless GPs now\n",
    "\n",
    "#### Noiseless GPs \n",
    "\n",
    "Given train data \n",
    "$$D = {(x_i, y_i), i = 1:N}$$\n",
    "\n",
    "Given a test set $X_{*}$ of size $N_* \\times d $ containing $N_*$ points in ${\\rm I\\!R}^d$, we want to predict function outputs $y_{*}$\n",
    "\n",
    "We can write:\n",
    "\n",
    "$$\n",
    "\\begin{pmatrix}\n",
    " y \\\\\n",
    " y_*\n",
    "\\end{pmatrix}  \\sim \\mathcal{N} \\left( \\begin{pmatrix}\n",
    " \\mu \\\\\n",
    " \\mu_*\n",
    "\\end{pmatrix} , \\begin{pmatrix}\n",
    " K & K_* \\\\\n",
    " K_*^T & K_{**}\n",
    "\\end{pmatrix} \\right)\n",
    "$$\n",
    "\n",
    "where\n",
    "\n",
    "$$\n",
    "K = Ker(X, X) \\in {\\rm I\\!R}^{N\\times N}\\\\\n",
    "K_* = Ker(X, X_*) \\in {\\rm I\\!R}^{N\\times N_*}\\\\\n",
    "K_{**} = Ker(X_*, X_*) \\in {\\rm I\\!R}^{N_*\\times N_*}\\\\\n",
    "$$\n",
    "\n",
    "We had previously used the kernel which we will continue to use\n",
    "```python\n",
    "def sig(x1, x2, l, s):\n",
    "    return s**2*(np.exp((-1/2*(l**2))*((x1-x2)**2)))\n",
    "```\n",
    "\n",
    "We can then write:\n",
    "\n",
    "$$\n",
    "p(y_*|X_*, X, y) \\sim \\mathcal{N}(\\mu', \\Sigma') \\\\\n",
    "\\mu' = \\mu_* + K_*^TK^{-1}(x-\\mu) \\\\\n",
    "\\Sigma' = K_{**} - K_*^TK^{-1}K_*\n",
    "$$"
   ]
  },
  {
   "cell_type": "code",
   "execution_count": null,
   "metadata": {
    "id": "FzkIT346s3pU"
   },
   "outputs": [],
   "source": [
    "class NoiselessGP_inversion:\n",
    "    def __init__(self, l=0.1, s=1, prior_mean=0):\n",
    "        self.l = l\n",
    "        self.s = s     \n",
    "        self.prior_mean = prior_mean\n",
    "        \n",
    "    def prior_sample(self, x, n):\n",
    "        \"\"\"\n",
    "        Sample GP on x\n",
    "        \"\"\"\n",
    "        self.sample_k = self.create_cov_matrix(x, x, self.l, self.s)\n",
    "        for i in range(n):\n",
    "            pass\n",
    "      \n",
    "    \n",
    "    def kernel(self, a, b, l, s):\n",
    "        \"\"\"\n",
    "        Borrowed from Nando De Freita's lecture code\n",
    "        https://www.cs.ubc.ca/~nando/540-2013/lectures/gp.py\n",
    "        \"\"\"\n",
    "        sqdist = np.sum(a**2,1).reshape(-1,1) + np.sum(b**2,1) - 2*np.dot(a, b.T)\n",
    "        return s**2*np.exp(-.5 * (1/l) * sqdist)\n",
    "    \n",
    "    def fit(self, train_x, train_y):\n",
    "        self.train_x = train_x\n",
    "        self.train_y = train_y\n",
    "        self.N = len(train_x)\n",
    "        self.K = self.kernel(train_x, train_x, self.l, self.s)\n",
    "        \n",
    "                \n",
    "    def predict(self, test_x):\n",
    "        self.N_star = len(test_x)\n",
    "        self.K_star = self.kernel(self.train_x, test_x, self.l, self.s)\n",
    "        self.K_star_star = self.kernel(test_x, test_x, self.l, self.s)\n",
    "        self.posterior_mu = self.prior_mean + self.K_star.T@np.linalg.inv(self.K)@(self.train_y-self.prior_mean)\n",
    "        self.posterior_sigma = self.K_star_star - self.K_star.T@np.linalg.inv(self.K)@self.K_star\n",
    "        return self.posterior_mu, self.posterior_sigma\n"
   ]
  },
  {
   "cell_type": "code",
   "execution_count": null,
   "metadata": {
    "id": "_6-bVvx4s3pU"
   },
   "outputs": [],
   "source": [
    "clf = NoiselessGP_inversion()"
   ]
  },
  {
   "cell_type": "code",
   "execution_count": null,
   "metadata": {
    "id": "zwzMXQkLs3pU"
   },
   "outputs": [],
   "source": [
    "train_x = np.array([-4, -3, -2, -1, 1]).reshape(5,1)\n",
    "train_y = np.sin(train_x)\n",
    "\n",
    "test_x = np.linspace(-5, 5, 50).reshape(-1, 1)\n",
    "test_y = np.sin(test_x)"
   ]
  },
  {
   "cell_type": "code",
   "execution_count": null,
   "metadata": {
    "id": "n9F9H210s3pU",
    "outputId": "bf7315e2-fc14-4d45-b0d0-11d4a0154c8f"
   },
   "outputs": [
    {
     "data": {
      "text/plain": [
       "[<matplotlib.lines.Line2D at 0x7f9d0ef432b0>]"
      ]
     },
     "execution_count": 94,
     "metadata": {
      "tags": []
     },
     "output_type": "execute_result"
    },
    {
     "data": {
      "image/png": "[encoded data removed]",
      "text/plain": [
       "<Figure size 432x288 with 1 Axes>"
      ]
     },
     "metadata": {
      "needs_background": "light",
      "tags": []
     },
     "output_type": "display_data"
    }
   ],
   "source": [
    "plt.plot(train_x, train_y,'ko-')"
   ]
  },
  {
   "cell_type": "code",
   "execution_count": null,
   "metadata": {
    "id": "wGlO_L4Ms3pU"
   },
   "outputs": [],
   "source": [
    "clf.fit(train_x, train_y)"
   ]
  },
  {
   "cell_type": "code",
   "execution_count": null,
   "metadata": {
    "id": "_i4C2EMLs3pV"
   },
   "outputs": [],
   "source": [
    "posterior_mu, posterior_var = clf.predict(test_x)"
   ]
  },
  {
   "cell_type": "code",
   "execution_count": null,
   "metadata": {
    "id": "mazkl-_ys3pV",
    "outputId": "c5d156d6-23ff-40ec-ed71-d3edf9e758af"
   },
   "outputs": [
    {
     "data": {
      "text/plain": [
       "<matplotlib.axes._subplots.AxesSubplot at 0x7f9d0f567340>"
      ]
     },
     "execution_count": 97,
     "metadata": {
      "tags": []
     },
     "output_type": "execute_result"
    },
    {
     "data": {
      "image/png": "[encoded data removed]",
      "text/plain": [
       "<Figure size 432x288 with 1 Axes>"
      ]
     },
     "metadata": {
      "needs_background": "light",
      "tags": []
     },
     "output_type": "display_data"
    }
   ],
   "source": [
    "plt.plot(test_x, clf.posterior_mu,'k',label='Predicted',lw=1)\n",
    "plt.plot(test_x, test_y, 'purple',label='GT',lw=2)\n",
    "plt.plot(train_x, train_y, 'ko',label='Training Data')\n",
    "\n",
    "plt.fill_between(test_x.flatten(), \n",
    "                 (clf.posterior_mu.flatten() - clf.posterior_sigma.diagonal().flatten()),\n",
    "                 (clf.posterior_mu.flatten() + clf.posterior_sigma.diagonal().flatten()),\n",
    "                 color='gray', alpha=0.3\n",
    "                )\n",
    "plt.legend()\n",
    "format_axes(plt.gca())"
   ]
  },
  {
   "cell_type": "markdown",
   "metadata": {
    "id": "_lgD_VJ5s3pV"
   },
   "source": [
    "### Cholesky decomposition\n",
    "\n",
    "We had previously used matrix inversion to do the computation for computing the posterior mean and variance in our GP. However, the matrices involved may be poorly conditioned and thus Cholesky decomposition is often favoured.\n",
    "\n",
    "From Wikipedia, the Cholesky decomposition of a matrix $A$ is given as:\n",
    "$$\n",
    "\\mathbf{A} = \\mathbf{L L}^T\n",
    "$$\n",
    "\n",
    "where $L$ is a real lower triangular matrix.\n",
    "\n",
    "We can thus re-write the posterior mean and covariance as:\n",
    "\n",
    "$$\n",
    "p(y_*|X_*, X, y) \\sim \\mathcal{N}(\\mu', \\Sigma') \\\\\n",
    "K = LL^T \\\\\n",
    "$$\n",
    "\n",
    "We are now going to use the `\\` as follows:\n",
    "if $A\\omega = B$, then $\\omega$ = $A$ `\\` $B$\n",
    "\n",
    "We now have:\n",
    "$$\n",
    "\\alpha = K^{-1}(x-\\mu) \\\\\n",
    "or, \\alpha = {LL^T}^{-1}(x-\\mu) \\\\\n",
    "or, \\alpha = L^{-T}L^{-1}(x-\\mu) \\\\\n",
    "Let, L^{-1}(x-\\mu) = \\gamma\\\\\n",
    "Thus, L\\gamma = x-\\mu \\\\\n",
    "Thus, \\gamma = L \\setminus (x-\\mu)\\\\\\\n",
    "Thus, \\alpha = L^{T} \\setminus (L \\setminus (x-\\mu))\n",
    "$$\n",
    "\n",
    "In Python, the same can be written as:\n",
    "```python\n",
    "    L = np.linalg.cholesky(K)\n",
    "    alpha = np.linalg.solve(L.T, np.linalg.solve(L, x-mu))\n",
    "```\n",
    "\n",
    "Thus, we can find the posterior mean as:\n",
    "$$\n",
    "\\mu' = \\mu_* + K_*^T \\alpha \\\\\n",
    "$$\n",
    "\n",
    "We also know that\n",
    "$$\n",
    "\\Sigma' = K_{**} - K_*^TK^{-1}K_*\n",
    "$$\n",
    "\n",
    "Let us now define\n",
    "$$\n",
    "v = L \\setminus K_{*}\\\\\n",
    "or, v = L^{-1}K_{*}\\\\\n",
    "Thus, v^{T} = K_{*}^TL^{-T}\\\\\n",
    "Thus, v^{T}v = K_{*}^TL^{-T}L^{-1}K_{*}\\\\\n",
    "Thus, v^{T}v = K_*^TK^{-1}K_* = K_{**} - \\Sigma' \n",
    "$$\n",
    "\n",
    "$$\n",
    "\\Sigma' = K_{**} - v^{T}v\n",
    "$$\n"
   ]
  },
  {
   "cell_type": "markdown",
   "metadata": {
    "id": "rlTWaS4us3pV"
   },
   "source": [
    "Let us know rewrite the code with Cholesky decomposition."
   ]
  },
  {
   "cell_type": "code",
   "execution_count": null,
   "metadata": {
    "id": "oqSQ0Whis3pW"
   },
   "outputs": [],
   "source": [
    "class NoiselessGP_Cholesky:\n",
    "    def __init__(self, l=0.1, s=1, prior_mean=0):\n",
    "        self.l = l\n",
    "        self.s = s     \n",
    "        self.prior_mean = prior_mean\n",
    "        \n",
    "    def prior_sample(self, x, n):\n",
    "        \"\"\"\n",
    "        Sample GP on x\n",
    "        \"\"\"\n",
    "        self.sample_k = self.create_cov_matrix(x, x, self.l, self.s)\n",
    "        for i in range(n):\n",
    "            pass\n",
    "      \n",
    "    \n",
    "    def kernel(self, a, b, l, s):\n",
    "        \"\"\"\n",
    "        Borrowed from Nando De Freita's lecture code\n",
    "        https://www.cs.ubc.ca/~nando/540-2013/lectures/gp.py\n",
    "        \"\"\"\n",
    "        sqdist = np.sum(a**2,1).reshape(-1,1) + np.sum(b**2,1) - 2*np.dot(a, b.T)\n",
    "        return s**2*np.exp(-.5 * (1/l) * sqdist)\n",
    "    \n",
    "    def fit(self, train_x, train_y):\n",
    "        self.train_x = train_x\n",
    "        self.train_y = train_y\n",
    "        self.N = len(train_x)\n",
    "        self.K = self.kernel(train_x, train_x, self.l, self.s)\n",
    "        self.L = np.linalg.cholesky(self.K)\n",
    "        \n",
    "                \n",
    "    def predict(self, test_x):\n",
    "        self.N_star = len(test_x)\n",
    "        self.K_star = self.kernel(self.train_x, test_x, self.l, self.s)\n",
    "        self.K_star_star = self.kernel(test_x, test_x, self.l, self.s)\n",
    "        self.alpha = np.linalg.solve(self.L.T, np.linalg.solve(self.L, self.train_y-self.prior_mean))\n",
    "        self.v = np.linalg.solve(self.L, self.K_star)\n",
    "        self.posterior_mu = self.prior_mean + self.K_star.T@self.alpha\n",
    "        self.posterior_sigma = self.K_star_star - self.v.T@self.v\n",
    "        return self.posterior_mu, self.posterior_sigma\n",
    "\n"
   ]
  },
  {
   "cell_type": "code",
   "execution_count": null,
   "metadata": {
    "id": "YYFnIkd1s3pW"
   },
   "outputs": [],
   "source": [
    "clf = NoiselessGP_Cholesky()\n",
    "clf.fit(train_x, train_y)\n",
    "posterior_mu_cholesky, posterior_var_cholesky = clf.predict(test_x)"
   ]
  },
  {
   "cell_type": "markdown",
   "metadata": {
    "id": "1Apiwkh7s3pW"
   },
   "source": [
    "We will now compare our Cholesky decomposition based decompostion with the earlier one."
   ]
  },
  {
   "cell_type": "code",
   "execution_count": null,
   "metadata": {
    "id": "3Pj0fOjas3pX",
    "outputId": "5d4d499c-6c6a-4871-88e4-fda761d105e5"
   },
   "outputs": [
    {
     "data": {
      "text/plain": [
       "True"
      ]
     },
     "execution_count": 100,
     "metadata": {
      "tags": []
     },
     "output_type": "execute_result"
    }
   ],
   "source": [
    "np.allclose(posterior_mu_cholesky, posterior_mu)"
   ]
  },
  {
   "cell_type": "code",
   "execution_count": null,
   "metadata": {
    "id": "YO5tKjXps3pX",
    "outputId": "6502149a-7af2-49ee-8c52-5a2827660d9d"
   },
   "outputs": [
    {
     "data": {
      "text/plain": [
       "True"
      ]
     },
     "execution_count": 101,
     "metadata": {
      "tags": []
     },
     "output_type": "execute_result"
    }
   ],
   "source": [
    "np.allclose(posterior_var_cholesky, posterior_var)"
   ]
  },
  {
   "cell_type": "markdown",
   "metadata": {
    "id": "c50de6EHs3pX"
   },
   "source": [
    "Ok, all looks good till now! Let us now move on to the case for Noisy GPs."
   ]
  },
  {
   "cell_type": "markdown",
   "metadata": {
    "id": "WF520ozys3pX"
   },
   "source": [
    "### Noisy GPs\n",
    "\n",
    "Previously, we had assumed a noiseless model, which is to say, for the observed data, we had:\n",
    "$$y_i = f(x_i)$$\n",
    "\n",
    "\n",
    "We now make the model more flexible by saying that there can be noise in the observed data as well, thus:\n",
    "$$\n",
    "y_i = f(x_i) + \\epsilon \\\\\n",
    "\\epsilon \\sim \\mathcal{N}(0, \\sigma_y^2)\n",
    "$$\n",
    "\n",
    "One of the main difference compared to the noiseless model would be that in the noisy model, we will have some uncertainty even about the training points.\n",
    "\n",
    "Everything about our model remains the same, except for the change in the covariance matrix $K$ for the training points, which is now given as:\n",
    "\n",
    "$$K_y = \\sigma_y^2\\mathbf{I_n} + K\n",
    "$$\n",
    "\n",
    "We can now rewrite the function as follows:"
   ]
  },
  {
   "cell_type": "code",
   "execution_count": null,
   "metadata": {
    "id": "KPeDM169s3pX"
   },
   "outputs": [],
   "source": [
    "class NoisyGP:\n",
    "    def __init__(self, l = 0.1, s = 1, prior_mean = 0, sigma_y = 1):\n",
    "        self.l = l\n",
    "        self.s = s     \n",
    "        self.prior_mean = prior_mean\n",
    "        self.sigma_y = sigma_y\n",
    "        \n",
    "    def prior_sample(self, x, n):\n",
    "        \"\"\"\n",
    "        Sample GP on x\n",
    "        \"\"\"\n",
    "        self.sample_k = self.create_cov_matrix(x, x, self.l, self.s)\n",
    "        for i in range(n):\n",
    "            pass\n",
    "      \n",
    "    \n",
    "    def kernel(self, a, b, l, s):\n",
    "        \"\"\"\n",
    "        Borrowed from Nando De Freita's lecture code\n",
    "        https://www.cs.ubc.ca/~nando/540-2013/lectures/gp.py\n",
    "        \"\"\"\n",
    "        sqdist = np.sum(a**2,1).reshape(-1,1) + np.sum(b**2,1) - 2*np.dot(a, b.T)\n",
    "        return s**2*np.exp(-.5 * (1/l) * sqdist)\n",
    "    \n",
    "    def fit(self, train_x, train_y):\n",
    "        self.train_x = train_x\n",
    "        self.train_y = train_y\n",
    "        self.N = len(train_x)\n",
    "        self.K = self.kernel(train_x, train_x, self.l, self.s) + self.sigma_y*np.eye(len(train_x))\n",
    "        self.L = np.linalg.cholesky(self.K)\n",
    "        \n",
    "                \n",
    "    def predict(self, test_x):\n",
    "        self.N_star = len(test_x)\n",
    "        self.K_star = self.kernel(self.train_x, test_x, self.l, self.s)\n",
    "        self.K_star_star = self.kernel(test_x, test_x, self.l, self.s)\n",
    "        self.alpha = np.linalg.solve(self.L.T, np.linalg.solve(self.L, self.train_y-self.prior_mean))\n",
    "        self.v = np.linalg.solve(self.L, self.K_star)\n",
    "        self.posterior_mu = self.prior_mean + self.K_star.T@self.alpha\n",
    "        self.posterior_sigma = self.K_star_star - self.v.T@self.v\n",
    "        return self.posterior_mu, self.posterior_sigma\n",
    "\n"
   ]
  },
  {
   "cell_type": "code",
   "execution_count": null,
   "metadata": {
    "id": "iZ_Krjlps3pX"
   },
   "outputs": [],
   "source": [
    "clf = NoisyGP(sigma_y=0.2)\n",
    "clf.fit(train_x, train_y)\n",
    "posterior_mu_noisy, posterior_var_noisy = clf.predict(test_x)"
   ]
  },
  {
   "cell_type": "code",
   "execution_count": null,
   "metadata": {
    "id": "j3YQE4cUs3pX",
    "outputId": "e725be7a-2c8a-43e8-df22-6e7abc1870ea"
   },
   "outputs": [
    {
     "data": {
      "text/plain": [
       "<matplotlib.axes._subplots.AxesSubplot at 0x7f9d11584550>"
      ]
     },
     "execution_count": 104,
     "metadata": {
      "tags": []
     },
     "output_type": "execute_result"
    },
    {
     "data": {
      "image/png": "[encoded data removed]",
      "text/plain": [
       "<Figure size 432x288 with 1 Axes>"
      ]
     },
     "metadata": {
      "needs_background": "light",
      "tags": []
     },
     "output_type": "display_data"
    }
   ],
   "source": [
    "plt.plot(test_x, clf.posterior_mu,'k',label='Predicted',lw=1)\n",
    "plt.plot(test_x, test_y, 'purple',label='GT',lw=2)\n",
    "plt.plot(train_x, train_y, 'ko',label='Training Data')\n",
    "\n",
    "plt.fill_between(test_x.flatten(), \n",
    "                 (clf.posterior_mu.flatten() - clf.posterior_sigma.diagonal().flatten()),\n",
    "                 (clf.posterior_mu.flatten() + clf.posterior_sigma.diagonal().flatten()),\n",
    "                 color='gray', alpha=0.3\n",
    "                )\n",
    "plt.legend()\n",
    "format_axes(plt.gca())"
   ]
  },
  {
   "cell_type": "markdown",
   "metadata": {
    "id": "bnZaT0I5s3pY"
   },
   "source": [
    "We can now see that our model has some uncertainty even on the train points!"
   ]
  }
 ],
 "metadata": {
  "celltoolbar": "Slideshow",
  "colab": {
   "name": "2019-08-20-Gaussian-Processes.ipynb",
   "provenance": []
  },
  "kernelspec": {
   "display_name": "Python 3",
   "language": "python",
   "name": "python3"
  },
  "language_info": {
   "codemirror_mode": {
    "name": "ipython",
    "version": 3
   },
   "file_extension": ".py",
   "mimetype": "text/x-python",
   "name": "python",
   "nbconvert_exporter": "python",
   "pygments_lexer": "ipython3",
   "version": "3.8.5"
  }
 },
 "nbformat": 4,
 "nbformat_minor": 4
}

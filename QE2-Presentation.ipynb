{
 "cells": [
  {
   "cell_type": "markdown",
   "id": "short-preliminary",
   "metadata": {
    "slideshow": {
     "slide_type": "slide"
    }
   },
   "source": [
    "### Learning Non-Stationary Space-Time Modelsfor Environmental Monitoring (NOSTILL-GP)\n",
    "### AAAI 2012\n",
    "#### Sahil Garg, Amarjeet Singh and Fabio Ramos\n",
    "\n",
    "#### Presenter: Zeel B Patel\n",
    "##### March 2021\n",
    "##### IIT Gandhinagar"
   ]
  },
  {
   "cell_type": "markdown",
   "id": "pregnant-argentina",
   "metadata": {
    "slideshow": {
     "slide_type": "slide"
    }
   },
   "source": [
    "### Introduction\n",
    "\n",
    "![text]()"
   ]
  },
  {
   "cell_type": "code",
   "execution_count": null,
   "id": "quantitative-village",
   "metadata": {},
   "outputs": [],
   "source": []
  }
 ],
 "metadata": {
  "celltoolbar": "Slideshow",
  "kernelspec": {
   "display_name": "Python 3",
   "language": "python",
   "name": "python3"
  },
  "language_info": {
   "codemirror_mode": {
    "name": "ipython",
    "version": 3
   },
   "file_extension": ".py",
   "mimetype": "text/x-python",
   "name": "python",
   "nbconvert_exporter": "python",
   "pygments_lexer": "ipython3",
   "version": "3.8.5"
  }
 },
 "nbformat": 4,
 "nbformat_minor": 5
}
